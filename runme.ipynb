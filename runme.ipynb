{
 "cells": [
  {
   "cell_type": "markdown",
   "metadata": {},
   "source": [
    "# Libraries"
   ]
  },
  {
   "cell_type": "code",
   "execution_count": 1,
   "metadata": {},
   "outputs": [],
   "source": [
    "import gradio as gr\n",
    "import google.generativeai as genai\n",
    "import pandas as pd\n",
    "import sqlite3\n",
    "import torch\n",
    "from transformers import pipeline\n",
    "\n",
    "import os"
   ]
  },
  {
   "cell_type": "markdown",
   "metadata": {},
   "source": [
    "# Parameters"
   ]
  },
  {
   "cell_type": "code",
   "execution_count": 2,
   "metadata": {},
   "outputs": [],
   "source": [
    "dataset_path = \"data/song_lyrics 2.csv\"\n",
    "name_of_table = \"temp\" # 0.1 of data  # \"music\" all data"
   ]
  },
  {
   "cell_type": "markdown",
   "metadata": {},
   "source": [
    "# Loading Dataset to database"
   ]
  },
  {
   "cell_type": "code",
   "execution_count": 4,
   "metadata": {},
   "outputs": [],
   "source": [
    "\n",
    "def load_data_to_sqlite(dataset_path, frac=0.1, random_state=42, db_name='music_data.db', table_name='music', batch_size=50000):\n",
    "    # Create SQLite database connection\n",
    "    conn = sqlite3.connect(db_name)\n",
    "    \n",
    "    # Drop the table if it exists\n",
    "    conn.execute(f\"DROP TABLE IF EXISTS {table_name};\")\n",
    "    print(f\"Table {table_name} has been deleted if it existed.\")\n",
    "    \n",
    "    # Create a new table with id as the primary key\n",
    "    conn.execute(f'''\n",
    "    CREATE TABLE IF NOT EXISTS {table_name} (\n",
    "        id INTEGER PRIMARY KEY,\n",
    "        title TEXT NOT NULL,\n",
    "        tag TEXT NOT NULL,\n",
    "        artist TEXT NOT NULL,\n",
    "        year INTEGER NOT NULL,\n",
    "        views INTEGER NOT NULL,\n",
    "        lyrics TEXT NOT NULL\n",
    "    );\n",
    "    ''')\n",
    "    \n",
    "    # Initialize a counter for total rows\n",
    "    total_rows = 0\n",
    "\n",
    "    # Read and process the CSV in chunks\n",
    "    for chunk in pd.read_csv(dataset_path, chunksize=batch_size):\n",
    "        \n",
    "        # Randomly sample from the current chunk\n",
    "        sampled_chunk = chunk.sample(frac=frac, random_state=random_state)\n",
    "        # Select the relevant columns\n",
    "        selected_columns = sampled_chunk[['title', 'tag', 'artist', 'year', 'views', 'lyrics']]\n",
    "        \n",
    "        # Remove rows with None values\n",
    "        selected_columns = selected_columns.dropna()\n",
    "        \n",
    "        # Add a primary key column (ID)\n",
    "        # Adjust the range based on total_rows for ID continuity\n",
    "        selected_columns['id'] = range(total_rows + 1, total_rows + len(selected_columns) + 1)\n",
    "        \n",
    "        # Insert data into the table\n",
    "        selected_columns.to_sql(table_name, conn, if_exists='append', index=False)\n",
    "        \n",
    "        # Update the total rows count\n",
    "        total_rows += len(selected_columns)\n",
    "        \n",
    "        # Print progress\n",
    "        print(f\"Inserted {len(selected_columns)} rows. Total rows inserted: {total_rows}\")\n",
    "    \n",
    "    # Print the structure of the table\n",
    "    print(\"Table Structure:\")\n",
    "    structure_query = conn.execute(f\"PRAGMA table_info({table_name});\")\n",
    "    for column_info in structure_query.fetchall():\n",
    "        print(column_info)\n",
    "    \n",
    "    # Query the table to verify data has been loaded\n",
    "    query = conn.execute(f\"SELECT COUNT(*) FROM {table_name}\")\n",
    "    row_count = query.fetchone()[0]\n",
    "    print(f\"Total rows in the table: {row_count}\")\n",
    "    \n",
    "    # Close the connection\n",
    "    conn.close()\n"
   ]
  },
  {
   "cell_type": "code",
   "execution_count": 3,
   "metadata": {},
   "outputs": [],
   "source": [
    "\n",
    "# Loading the whole dataset to database\n",
    "# load_data_to_sqlite(dataset_path, table_name=name_of_table ) "
   ]
  },
  {
   "cell_type": "markdown",
   "metadata": {},
   "source": [
    "# Query Database"
   ]
  },
  {
   "cell_type": "code",
   "execution_count": 5,
   "metadata": {},
   "outputs": [],
   "source": [
    "def query_database(query, db_name='music_data.db'):\n",
    "    # Reopen the SQLite connection if it's closed\n",
    "    conn = sqlite3.connect(db_name)\n",
    "    \n",
    "    # Execute the query\n",
    "    result = conn.execute(query)\n",
    "    \n",
    "    # Fetch all rows from the result\n",
    "    rows = result.fetchall()\n",
    "    \n",
    "    # Close the connection\n",
    "    conn.close()\n",
    "    \n",
    "    return rows"
   ]
  },
  {
   "cell_type": "code",
   "execution_count": 6,
   "metadata": {},
   "outputs": [
    {
     "name": "stdout",
     "output_type": "stream",
     "text": [
      "(199861, 'Shape of You', 'pop', 'Ed Sheeran', 2017, 14569727, \"[Verse 1]\\nThe club isn't the best place to find a lover\\nSo the bar is where I go\\nMe and my friends at the table doing shots\\nDrinking fast and then we talk slow\\nAnd you come over and start up a conversation with just me\\nAnd trust me I'll give it a chance now\\nTake my hand, stop, put Van the Man on the jukebox\\nAnd then we start to dance, and now I'm singing like\\n\\n[Pre-Chorus]\\nGirl, you know I want your love\\nYour love was handmade for somebody like me\\nCome on now, follow my lead\\nI may be crazy, don't mind me\\nSay, boy, let's not talk too much\\nGrab on my waist and put that body on me\\nCome on now, follow my lead\\nCome, come on now, follow my lead\\n\\n[Chorus]\\nI'm in love with the shape of you\\nWe push and pull like a magnet do\\nAlthough my heart is falling too\\nI'm in love with your body\\nAnd last night you were in my room\\nAnd now my bed sheets smell like you\\nEvery day discovering something brand new\\nI'm in love with your body\\n[Post-Chorus]\\nOh, I, oh, I, oh, I, oh, I\\nI'm in love with your body\\nOh, I, oh, I, oh, I, oh, I\\nI'm in love with your body\\nOh, I, oh, I, oh, I, oh, I\\nI'm in love with your body\\nEvery day discovering something brand new\\nI'm in love with the shape of you\\n\\n[Verse 2]\\nOne week in we let the story begin\\nWe're going out on our first date\\nYou and me are thrifty, so go all you can eat\\nFill up your bag and I fill up a plate\\nWe talk for hours and hours about the sweet and the sour\\nAnd how your family is doing okay\\nLeave and get in a taxi, then kiss in the backseat\\nTell the driver make the radio play, and I'm singing like\\n\\n[Pre-Chorus]\\nGirl, you know I want your love\\nYour love was handmade for somebody like me\\nCome on now, follow my lead\\nI may be crazy, don't mind me\\nSay, boy, let's not talk too much\\nGrab on my waist and put that body on me\\nCome on now, follow my lead\\nCome, come on now, follow my lead\\n[Chorus]\\nI'm in love with the shape of you\\nWe push and pull like a magnet do\\nAlthough my heart is falling too\\nI'm in love with your body\\nAnd last night you were in my room\\nAnd now my bed sheets smell like you\\nEvery day discovering something brand new\\nI'm in love with your body\\n\\n[Post-Chorus]\\nOh, I, oh, I, oh, I, oh, I\\nI'm in love with your body\\nOh, I, oh, I, oh, I, oh, I\\nI'm in love with your body\\nOh, I, oh, I, oh, I, oh, I\\nI'm in love with your body\\nEvery day discovering something brand new\\nI'm in love with the shape of you\\n\\n[Bridge]\\nCome on, be my baby, come on\\nCome on, be my baby, come on\\nCome on, be my baby, come on\\nCome on, be my baby, come on\\nCome on, be my baby, come on\\nCome on, be my baby, come on\\nCome on, be my baby, come on\\nCome on, be my baby, come on\\n[Chorus]\\nI'm in love with the shape of you\\nWe push and pull like a magnet do\\nAlthough my heart is falling too\\nI'm in love with your body\\nLast night you were in my room\\nAnd now my bed sheets smell like you\\nEvery day discovering something brand new\\nI'm in love with your body\\n\\n[Outro]\\nCome on, be my baby, come on\\nCome on, be my baby, come on\\nI'm in love with your body\\nCome on, be my baby, come on\\nCome on, be my baby, come on\\nI'm in love with your body\\nCome on, be my baby, come on\\nCome on, be my baby, come on\\nI'm in love with your body\\nEvery day discovering something brand new\\nI'm in love with the shape of you\", None)\n",
      "(186919, 'Bad and Boujee', 'rap', 'Migos', 2016, 9168421, \"[Intro: Offset & Future]\\nYou know, young rich niggas\\nYou know somethin', we ain't really never had no old money\\nWe got a whole lotta new money though, hah\\n(If Young Metro don't trust you, I'm gon' shoot you)\\nHey\\n\\n[Chorus: Offset]\\nRaindrop (Drip), drop-top (Drop-top)\\nSmokin' on cookie in the hotbox (Cookie)\\nFuckin' on your bitch, she a thot, thot (Thot)\\nCookin' up dope in the crockpot (Pot)\\nWe came from nothin' to somethin', nigga (Hey)\\nI don't trust nobody, grip the trigger (Nobody)\\nCall up the gang and they come and get ya (Gang)\\nCry me a river, give you a tissue (Hey)\\nMy bitch is bad and bougie (Bad)\\nCookin' up dope with a Uzi (Blaow)\\nMy niggas is savage, ruthless (Savage)\\nWe got 30s and hundred-rounds too (Grrah)\\nMy bitch is bad and bougie (Bad)\\nCookin' up dope with a Uzi (Dope)\\nMy niggas is savage, ruthless (Hey)\\nWe got 30s and hundred-rounds too (Glah)\\n[Verse 1: Offset]\\nOffset, woo, woo, woo, woo, woo\\nRackaids on rackaids (Racks), got back-ends on back-ends\\nI'm ridin' around in a coupe (Coupe)\\nI take your bih' right from you (You)\\nBitch, I'm a dog, roof (Grr)\\nBeat the ho walls loose (Hey)\\nHop in the frog, whoo (Skrrt)\\nI tell that bih' to come comfort me (Comfort me)\\nI swear these niggas is under me (Hey)\\nThey hate and the devil keep jumpin' me (Jumpin' me)\\nBankrolls on me keep me company (Cash)\\nAyy, we do the most (Most)\\nYeah, pull up in Ghosts (Woo)\\nYeah, my diamond's a choker (Glah)\\nHoldin' the fire with no holster (Blaow)\\nRick the Ruler, diamonds cooler (Cooler)\\nThis a Rollie, not a Muller (Hey)\\nDabbin' on 'em like the usual (Dab)\\nMagic with the brick, do voodoo (Magic)\\nCourtside with a bad bitch (Bitch)\\nThen I send the bitch through Uber (Go)\\nI'm young and rich and plus I'm bougie (Hey)\\nI'm not stupid so I keep the Uzi (Rrah)\\nRackaids on rackaids, got back-ends on back-ends\\nSo my money makin' my back ache (Aagh)\\nYou niggas got a low Act rate (Act)\\nWe from the Nawf, yeah, Dat Way (Nawf)\\nFat Cookie blunt in the ashtray (Cookie)\\nTwo bitches, just national smash day (Smash)\\nHop in the Lamb', have a drag race (Skrrt)\\nI let them birds take a bath, bae (Brr)\\n[Chorus: Offset]\\nRaindrop (Drip), drop-top (Drop-top)\\nSmokin' on cookie in the hotbox (Cookie)\\nFuckin' on your bitch, she a thot, thot (Thot)\\nCookin' up dope in the crockpot (Pot)\\nWe came from nothin' to somethin', nigga (Hey)\\nI don't trust nobody, grip the trigger (Nobody)\\nCall up the gang and they come and get ya (Gang)\\nCry me a river, give you a tissue (Hey)\\nMy bitch is bad and bougie (Bad)\\nCookin' up dope with a Uzi (Blaow)\\nMy niggas is savage, ruthless (Savage)\\nWe got 30s and hundred-rounds too (Grrah)\\nMy bitch is bad and bougie (Bad)\\nCookin' up dope with a Uzi (Dope)\\nMy niggas is savage, ruthless (Hey)\\nWe got 30s and hundred-rounds too (Glah)\\n\\n[Verse 2: Quavo]\\nPour a four, I'm droppin' muddy, outer space, Kid Cudi (Drank)\\nIntroduce me to your bitch as wifey and we know she sluttin' (Bitch)\\nBroke a brick down, Nutty Buddy, now that nigga duckin' (Phew)\\nDon't move too fast, I might shoot ya (Huh?)\\nDraco bad and bougie (Draco)\\nI'm always hangin' with shooters (Brrah)\\nMight be posted somewhere secluded (Private)\\nStill be playin' with pots and pans, call me Quavo Ratatouille (Cook it up)\\nRun with that sack, call me Boobie (Run with it)\\nWhen I'm on stage, show me boobies (Ayy)\\nIce on my neck, I'm the coolest (Ice)\\nHop out the suicide with the Uzi (Pew-pew-pew)\\nI pull up, I pull up, I pull up\\nI hop out with all of the drugs and the good luck (Skrrt)\\nI'm cookin', I'm cookin', I'm whippin'\\nI'm whippin' until it rock up, let it lock up (Lock up)\\nI gave her ten racks\\nI told her go shoppin' and spend it all at the pop up (Ten)\\nThese bitches, they fuck and suck dick\\nAnd they bustin' for Instagram, get your clout up\\nUh, yeah, that way (Yeah)\\nFloat on the track like a Segway (Go)\\nYeah, that way (Dat way)\\nI used to trap by the Subway (Trappin', trappin')\\nYeah, that way (Go)\\nYoung nigga trap with the AK (Rrah, uh)\\nYeah, that way (Yeah)\\nBig dyke ho, get the door, Macy Gray (Hey)\\n[Chorus: Offset & Lil Uzi Vert]\\nRaindrop (Drip), drop-top (Drop-top)\\nSmokin' on cookie in the hotbox (Cookie)\\nFuckin' on your bitch, she a thot, thot (Thot)\\nCookin' up dope in the crockpot (Pot)\\nWe came from nothin' to somethin', nigga (Hey)\\nI don't trust nobody, grip the trigger (Nobody)\\nCall up the gang and they come and get ya (Gang)\\nCry me a river, give you a tissue (Hey)\\nMy bitch is bad and bougie (Bad)\\nCookin' up dope with a Uzi (Blaow)\\nMy niggas is savage, ruthless (Savage)\\nWe got 30s and hundred-rounds too (Grrah)\\nMy bitch is bad and bougie (Bad)\\nCookin' up dope with a Uzi (Dope, huh?)\\nMy niggas is savage, ruthless (Hey, what?)\\nWe got 30s and hundred-rounds too (Glah, Lil Uzi)\\n\\n[Verse 3: Lil Uzi Vert]\\nYeah, yeah, yeah, yeah, yeah, yeah (Yeah)\\nMy bitch, she bad to the bone (She what?)\\nAyy, wait, these niggas watchin'\\nI swear to God they be my clones (They watchin')\\nYeah, hey, huh\\nSwitchin' my hoes like my flows (What?)\\nSwitchin' my flows like my clothes (Like what?)\\nKeep on shootin' that gun, don't reload (Damn)\\nOoh, ooh, now she want fuck with my crew (My crew)\\n'Cause the money come all out the roof (Damn, damn)\\nDrive the 'Rari, that bitch got no roof (Skrrt)\\nWait, what kind of 'Rari? (Wait) 458 (Damn)\\nAll of these niggas, they hate (They hate)\\nTry to hide, shoot through the gate (Wow)\\nLook, go to strip club, make it rain, yeah\\nSo much money they use rakes (They use rakes)\\nCount a hundred thousand in your face (In your face)\\nYeah, then put 300 right in the safe (Yeah)\\nMet her today, yeah (Ooh)\\nShe talk to me like she knew me, yeah (Ooh)\\nGo to sleep in a jacuzzi, yeah (Yeah)\\nWakin' up right to a two-piece, yeah\\nCountin' that paper like loose-leaf, yeah\\nGettin' that chicken with blue cheese, yeah\\nBoy, you so fake, like my collar, you snakin'\\nI swear to God that be that Gucci (Ayy)\\nAnd you know we winnin' (Winnin')\\nYeah, we is not losin'\\nTry to play your song, it ain't move me (What?)\\nSaw your girl once, now she choosin', yeah (Hey!)\\n\\n[Chorus: Offset & Lil Uzi Vert]\\nRaindrop (Drip), drop-top (Drop-top)\\nSmokin' on cookie in the hotbox (Cookie)\\nFuckin' on your bitch, she a thot, thot (Thot, yeah)\\nCookin' up dope in the crockpot (Pot)\\nWe came from nothin' to somethin', nigga (Hey)\\nI don't trust nobody, grip the trigger (Nobody, yeah)\\nCall up the gang and they come and get ya (Gang)\\nCry me a river, give you a tissue (Hey, Lil Uzi)\\nMy bitch is bad and bougie (Bad, she bad)\\nCookin' up dope with a Uzi (Blaow, cookin' up, cookin' up)\\nMy niggas is savage, ruthless (Savage, they savage)\\nWe got 30s and hundred-rounds too (Grrah)\\nMy bitch is bad and bougie (Bad)\\nCookin' up dope with a Uzi (Dope, what?)\\nMy niggas is savage, ruthless (Hey, yeah)\\nWe got 30s and hundred-rounds too (Lil Uzi)\", None)\n",
      "(226905, 'Shallow', 'rock', 'Lady Gaga & Bradley Cooper', 2018, 6466788, \"[Verse 1: Bradley Cooper]\\nTell me somethin', girl\\nAre you happy in this modern world?\\nOr do you need more?\\nIs there somethin' else you're searchin' for?\\n\\n[Refrain: Bradley Cooper]\\nI'm fallin'\\nIn all the good times\\nI find myself longing for change\\nAnd, in the bad times, I fear myself\\n\\n[Verse 2: Lady Gaga]\\nTell me something, boy\\nAren't you tired tryna fill that void?\\nOr do you need more?\\nAin't it hard keepin' it so hardcore?\\n\\n[Refrain: Lady Gaga]\\nI'm falling\\nIn all the good times\\nI find myself longing for change\\nAnd, in the bad times, I fear myself\\n[Chorus: Lady Gaga]\\nI'm off the deep end, watch as I dive in\\nI'll never meet the ground\\nCrash through the surface where they can't hurt us\\nWe're far from the shallow now\\n\\n[Post-Chorus: Lady Gaga & Bradley Cooper]\\nIn the sha-ha, sha-hallow\\nIn the sha-ha, sha-la-la-la-low\\nIn the sha-ha, sha-hallow\\nWe're far from the shallow now\\n\\n[Bridge: Lady Gaga]\\nOh, ha, ah, ha\\nOh-ah, ha\\n\\n[Chorus: Lady Gaga]\\nI'm off the deep end, watch as I dive in\\nI'll never meet the ground\\nCrash through the surface where they can't hurt us\\nWe're far from the shallow now\\n\\n[Post-Chorus: Lady Gaga & Bradley Cooper]\\nIn the sha-ha, shallow\\nIn the sha-ha, sha-la-la-la-low\\nIn the sha-ha, shallow\\nWe're far from the shallow now\", None)\n",
      "(169020, '\\u200bi\\u200b hate u i love u', 'pop', 'Garrett Nash', 2016, 6154593, \"[Verse 1: Olivia O'Brien]\\nFeeling used, but I'm\\nStill missing you and I can't\\nSee the end of this\\nJust wanna feel your kiss against my lips\\nAnd now all this time is passing by\\nBut I still can't seem to tell you why\\nIt hurts me every time I see you\\nRealize how much I need you\\n\\n[Chorus: Olivia O'Brien]\\nI hate you, I love you\\nI hate that I love you\\nDon't want to, but I can't put\\nNobody else above you\\nI hate you, I love you\\nI hate that I want you\\nYou want her, you need her\\nAnd I'll never be her\\n\\n[Verse 2: gnash]\\nI miss you when I can't sleep\\nOr right after coffee or right when I can't eat\\nI miss you in my front seat\\nStill got sand in my sweaters\\nFrom nights we don't remember\\nDo you miss me like I miss you?\\nFucked around and got attached to you\\nFriends can break your heart, too\\nAnd I'm always tired, but never of you\\nIf I pulled a you on you, you wouldn't like that shit\\nI put this reel out, but you wouldn't bite that shit\\nI type a text, but then I never mind that shit\\nI got these feelings, but you never mind that shit\\nOh oh, keep it on the low\\nYou're still in love with me, but your friends don't know\\nIf you wanted me, you would just say so\\nAnd if I were you, I would never let me go\\n[Chorus: Olivia O'Brien]\\nI hate you, I love you\\nI hate that I love you\\nDon't want to, but I can't put\\nNobody else above you\\nI hate you, I love you\\nI hate that I want you\\nYou want her, you need her\\nAnd I'll never be her\\n\\n[Verse 3: gnash]\\nI don't mean no harm, I just miss you on my arm\\nWedding bells were just alarms\\nCaution tape around my heart\\nYou ever wonder what we could have been?\\nYou said you wouldn't and you fucking did\\nLie to me, lie with me, get your fucking fix\\nNow all my drinks and all my feelings are all fucking mixed\\nAlways missing people that I shouldn't be missing\\nSometimes you gotta burn some bridges just to create some distance\\nI know that I control my thoughts and I should stop reminiscing\\nBut I learned from my dad that it's good to have feelings\\nWhen love and trust are gone\\nI guess this is moving on\\nEveryone I do right does me wrong\\nSo every lonely night, I sing this song\\n[Chorus: Olivia O'Brien  with gnash]\\nI hate you, I love you\\nI hate that I love you\\nDon't want to, but I can't put\\nNobody else above you\\nI hate you, I love you\\nI hate that I want you\\nYou want her, you need her\\nAnd I'll never be her\\n\\n[Bridge: Olivia O'Brien with gnash]\\nAll alone, I watch you watch her\\nLike she's the only girl you've ever seen\\nYou don't care, you never did\\nYou don't give a damn about me\\nYeah, all alone, I watch you watch her\\nShe is the only thing you've ever seen\\nHow is it you never notice\\nThat you are slowly killing me?\\n\\n[Chorus: Olivia O'Brien]\\nI hate you, I love you\\nI hate that I love you\\nDon't want to, but I can't put\\nNobody else above you\\nI hate you, I love you\\nI hate that I want you\\nYou want her, you need her\\nAnd I'll never be her\", None)\n",
      "(19050, 'Hold On Were Going Home', 'rb', 'Drake', 2013, 5471927, '[Verse 1: Drake]\\nI got my eyes on you\\nYou\\'re everything that I see\\nI want your hot love and emotion endlessly\\nI can\\'t get over you\\nYou left your mark on me\\nI want your hot love and emotion endlessly\\n\\n[Pre-Chorus: Drake]\\n\\'Cause you\\'re a good girl and you know it\\nYou act so different around me\\n\\'Cause you\\'re a good girl and you know it\\nI know exactly who you could be\\n\\n[Chorus: Drake]\\nJust hold on, we\\'re going home\\nJust hold on, we\\'re going home\\nIt\\'s hard to do these things alone\\nJust hold on, we\\'re going home\\n\\n[Verse 2: Drake]\\nI got my eyes on you\\nYou\\'re everything that I see\\nI want your hot love and emotion endlessly\\nI can\\'t get over you\\nYou left your mark on me\\nI want your hot love and emotion endlessly\\n[Pre-Chorus: Drake]\\n\\'Cause you\\'re a good girl and you know it\\nYou act so different around me\\n\\'Cause you\\'re a good girl and you know it\\nI know exactly who you could be\\n\\n[Chorus: Drake & Majid Al Maskati]\\nSo just hold on, we\\'re going home (Going home)\\nJust hold on, we\\'re going home (Going home)\\nIt\\'s hard to do these things alone (Things alone)\\nJust hold on, we\\'re going home (Going home, going home)\\n\\n[Bridge: Majid Al Maskati]\\nYou\\'re the girl, you\\'re the one\\nGave you everything I loved\\nI think there\\'s something, baby\\nI think there\\'s something, baby\\nYou\\'re the girl, you\\'re the one\\nGave you everything I loved\\nI think there\\'s something, baby\\nI think there\\'s something, baby\\n\\n[Pre-Chorus: Drake & Majid Al Maskati]\\n\\'Cause you\\'re a good girl and you know it\\nYou act so different around me\\n\\'Cause you\\'re a good girl and you know it\\nI know exactly who you could be\\n[Chorus: Drake & Majid Al Maskati]\\nOh, just hold on, we\\'re going home (Going home)\\nJust hold on, we\\'re going home (Going home)\\nIt\\'s hard to do these things alone (Things alone)\\nJust hold on, we\\'re going home (Going home)\\nHome (Going home)\\n\\n[Outro: Majid Al Maskati]\\nHold on\\nOh, oh\\n\\n[Produced by Nineteen85, Majid Jordan & Noah \"40\" Shebib]', 'neutral')\n",
      "(173539, 'Hello', 'pop', 'Adele', 2015, 5213471, \"[Verse 1]\\nHello, it's me\\nI was wondering if after all these years you'd like to meet\\nTo go over everything\\nThey say that time's supposed to heal ya, but I ain't done much healing\\nHello, can you hear me?\\nI'm in California dreaming about who we used to be\\nWhen we were younger and free\\nI've forgotten how it felt before the world fell at our feet\\n\\n[Pre-Chorus]\\nThere's such a difference between us\\nAnd a million miles\\n\\n[Chorus]\\nHello from the other side\\nI must've called a thousand times\\nTo tell you I'm sorry for everything that I've done\\nBut when I call, you never seem to be home\\nHello from the outside\\nAt least, I can say that I've tried\\nTo tell you I'm sorry for breaking your heart\\nBut it don't matter, it clearly doesn't tear you apart anymore\\n[Verse 2]\\nHello, how are you?\\nIt's so typical of me to talk about myself, I'm sorry\\nI hope that you're well\\nDid you ever make it out of that town where nothing ever happened?\\n\\n[Pre-Chorus]\\nIt's no secret that the both of us\\nAre running out of time\\n\\n[Chorus]\\nSo hello from the other side (Other side)\\nI must've called a thousand times (Thousand times)\\nTo tell you I'm sorry for everything that I've done\\nBut when I call, you never seem to be home\\nHello from the outside (Outside)\\nAt least, I can say that I've tried (I've tried)\\nTo tell you I'm sorry for breaking your heart\\nBut it don't matter, it clearly doesn't tear you apart anymore\\n\\n[Bridge]\\n(Highs, highs, highs, highs, lows, lows, lows, lows)\\nOoh, anymore\\n(Highs, highs, highs, highs, lows, lows, lows, lows)\\nOoh, anymore\\n(Highs, highs, highs, highs, lows, lows, lows, lows)\\nOoh, anymore\\n(Highs, highs, highs, highs, lows, lows, lows, lows)\\nAnymore\\n[Chorus]\\nHello from the other side (Other side)\\nI must've called a thousand times (Thousand times)\\nTo tell you I'm sorry for everything that I've done\\nBut when I call, you never seem to be home\\nHello from the outside (Outside)\\nAt least, I can say that I've tried (I've tried)\\nTo tell you I'm sorry for breaking your heart\\nBut it don't matter, it clearly doesn't tear you apart anymore\\n\\n[Produced by Greg Kurstin]\\n[Music Video]\", None)\n",
      "(185169, '\\u200bgoosebumps', 'rap', 'Travis Scott', 2016, 5121277, \"[Intro: Travis Scott]\\nYeah\\n7:30 in the night, yeah\\nOoh, ooh\\n\\n[Chorus: Travis Scott]\\nI get those goosebumps every time, yeah, you come around, yeah\\nYou ease my mind, you make everything feel fine\\nWorried 'bout those comments\\nI'm way too numb, yeah, it's way too dumb, yeah\\nI get those goosebumps every time, I need the Heimlich\\nThrow that to the side, yeah\\nI get those goosebumps every time, yeah\\nWhen you're not around (Straight up)\\nWhen you throw that to the side, yeah (It's lit)\\nI get those goosebumps every time, yeah\\n\\n[Verse 1: Travis Scott]\\n7-1-3\\nThrough the 2-8-1, yeah, I'm ridin', why they on me?\\nWhy they on me? I'm flyin', sippin' low-key\\nI'm sippin' low-key in Onyx, rider, rider\\nWhen I'm pullin' up right beside ya\\nPop star, lil' Mariah\\nWhen I text a cute game, wildness\\nThrow a stack on the Bible\\nNever Snapchat or took molly\\nShe fall through plenty, her and all her ginnies, yeah\\nWe at the top floor, right there off Doheny, yeah\\nOh no, I can't fuck with y'all\\nYeah, when I'm with my squad, I cannot do no wrong\\nYeah, saucin' in the city, don't get misinformed\\nYeah, they gon' pull up on you (Brr, brr, brr)\\nYeah, we gon' do some things, some things you can't relate\\nYeah, 'cause we from a place, a place you cannot stay\\nOh, you can't go, oh, I don't know\\nOh, back the fuck up off me (Brr, brr, brr)\\n[Chorus: Travis Scott]\\nI get those goosebumps every time, yeah, you come around, yeah\\nYou ease my mind, you make everything feel fine\\nWorried 'bout those comments\\nI'm way too numb, yeah, it's way too dumb, yeah\\nI get those goosebumps every time, I need the Heimlich\\nThrow that to the side, yeah\\nI get those goosebumps every time, yeah\\nWhen you're not around\\nWhen you throw that to the side, yeah\\nI get those goosebumps every time\\n\\n[Verse 2: Kendrick Lamar]\\nUh, I want to press my like, yeah, I wanna press my\\nI want a green light, I wanna be like\\nI wanna press my line, yeah\\nI wanna take that ride, yeah\\nI'm gonna press my line\\nI want a green light, I wanna be like, I wanna press my—\\nMama dearest, spare your feelings\\nI'm relivin' moments, peelin' more residual\\nI can buy the buildin', burn the buildin'\\nTake your bitch, rebuild the buildin' just to fuck some more\\nI can justify my love for ya\\nAnd touch the sky for God to stop debating war\\nPut the pussy on a pedestal (Ayy)\\nPut the pussy on a high horse\\nThat pussy to die for\\nThat pussy to die for\\nPeter Piper picked a pepper\\nSo I could pick your brain and put your heart together\\nWe depart the shady parts and party hard\\nThe diamonds yours, the coupe forever\\nMy best shot just might shoot forever like (Brr)\\n[Chorus: Travis Scott]\\nI get those goosebumps every time, yeah, you come around, yeah\\nYou ease my mind, you make everything feel fine\\nWorried 'bout those comments\\nI'm way too numb, yeah, it's way too dumb, yeah\\nI get those goosebumps every time, I need the Heimlich\\nThrow that to the side, yeah\\nI get those goosebumps every time, yeah\\nWhen you're not around\\nWhen you throw that to the side, yeah\\nI get those goosebumps every time\", None)\n",
      "(205777, 'Its Everyday Bro', 'rap', 'Jake Paul', 2017, 5007877, '[Intro: Jake Paul]\\nYah\\nY\\'all can\\'t handle this\\nY\\'all don\\'t know what\\'s about to happen, baby\\n(It\\'s everyday bro, everyday)\\nTeam 10\\nLos Angeles, Cali boy\\nBut I\\'m from Ohio though, white boy\\n\\n[Verse 1: Jake Paul]\\nIt\\'s everyday, bro, with the Disney Channel flow\\nFive mil\\' on YouTube in six months, never done before\\nPassed all the competition, man, PewDiePie is next\\nMan, I\\'m poppin\\' all these checks, got the brand new Rolex\\nAnd it match the Lambo too, and I\\'m coming with the crew\\nThis is Team 10, bitch, who the hell are flippin\\' you?\\nAnd you know I kick them out if they ain\\'t with the crew\\nYeah, I\\'m talking about you, you beggin\\' for attention\\nTalking shit on Twitter, too, but you still hit my phone last night\\nIt was 4:52, and I got the text to prove\\nAnd all the recordings too, don\\'t make me tell them the truth\\nAnd I just dropped some new merch, and it\\'s selling like a god church\\nOhio\\'s where I\\'m from, we chew \\'em like it\\'s gum\\nWe shooting with a gun, the tattoo just for fun\\nI Usain Bolt and run, catch me at game one\\nI cannot be outdone, Jake Paul is number one\\n[Chorus: Jake Paul]\\nIt\\'s everyday bro\\nIt\\'s everyday bro\\nIt\\'s everyday bro\\nI said it\\'s everyday bro!\\n\\n[Verse 2: Nick Crompton]\\nYou know it\\'s Nick Crompton, and my collar stay poppin\\'\\nYes, I can rap, and no, I\\'m not from Compton\\nEngland is my city\\nAnd if it weren\\'t for Team 10, then the US would be shitty\\nI\\'ll pass it to Chance, \\'cause you know he stay litty\\n\\n[Verse 3: Chance Sutton]\\nTwo months ago, you didn\\'t know my name\\nAnd now you want my fame?\\nBitch I\\'m blowin\\' up, I\\'m only going up\\nNow I\\'m going off, I\\'m never fallin\\' off\\nLike Mag, who? Digi who? Who are you?\\nAll these beefs, I just ran through, hit a milli\\' in a month\\nWhere were you? Hatin\\' on me back in West Fake\\nThink you need to get your shit straight\\nJakey brought me to the top, now we really poppin\\' off\\nNumber one and number four, that\\'s why these fans all at our door\\nIt\\'s lonely at the top, so we all going\\nWe left Ohio, now the trio\\'s all rollin\\'\\nIt\\'s Team 10, bitch\\nWe back again, always first, never last\\nWe the future, we\\'ll see you in the past\\n[Chorus: Jake Paul]\\nIt\\'s everyday bro\\nIt\\'s everyday bro\\nIt\\'s everyday bro\\nI said it\\'s everyday bro!\\n\\n[Interlude: Martinez Twins]\\nHold on, hold on, hold on (Espera)\\nCan we switch the language? (Ha, ya tú sabe\\')\\nWe \\'bout to hit it (Dale)\\n\\n[Verse 4: Martinez Twins]\\nSí, lo único que quiero es dinero\\nTrabajando en YouTube todo el día entero (Dale)\\nViviendo en U.S.A, el sueño de cualquiera (Ha)\\nEnviando dólares a mi familia entera (Pasta)\\nTenemos una persona por encima\\nSe llama Donald Trump y está en la cima\\nDesde aquí te cantamos, can I get my VISA?\\nMartinez Twins, representando España\\nDesde la pobreza a la fama\\n\\n[Chorus: Jake Paul]\\nIt\\'s everyday bro\\nIt\\'s everyday bro\\nIt\\'s everyday bro\\nI said it\\'s everyday bro!\\n[Verse 5: Tessa Brooks]\\nYo, it\\'s Tessa Brooks\\nThe competition shook\\nThese guys up on me\\nI got \\'em with the hook\\nLemme educate ya\\nAnd I ain\\'t talking book\\nPanera is your home\\nSo stop calling my phone\\nI\\'m flyin\\' like a drone\\nThey buying like a loan\\nYeah, I smell good\\nIs that your boy\\'s cologne?\\n\\n[Verse 6: Jake Paul]\\nIs that your boy\\'s cologne?\\nStarted ballin\\', Quicken Loans\\nNow I\\'m in my flippin\\' zone\\nYes, they all copy me, but\\nThat\\'s some shitty clones\\nStay in all designer clothes\\nAnd they ask me what I make\\nI said, \"It\\'s ten with six zeros\"\\nAlways plug merch link in bio\\nAnd I will see you tomorrow \\'cause\\nIt\\'s everyday bro\\nPeace', None)\n",
      "(17140, 'Control', 'rap', 'Big Sean', 2013, 4713257, '[Produced by No I.D.]\\n\\n[Intro: Big Sean]\\nMhm, I look up\\nYeah, and I take my time, nigga\\nI\\'ma take my time, woah\\nMhm, power moves only, nigga\\n\\n[Verse 1: Big Sean]\\nBoy, I\\'m \\'bout my business on business, I drink liquor on liquor\\nI had women on women: yeah, that\\'s bunk-bed bitches\\nI\\'ve done lived more than an 80-year-old man still kickin\\'\\n‘Cause they live for some moments, and I live for a livin\\'\\nBut this for the girls who barely let me get to first base\\nOn some ground ball shit\\n‘Cause now I run my city on some town hall shit\\nThey prayin\\' on my motherfuckin\\' downfall, bitch\\nLike a drought, but you gon\\' get this rain like it\\'s May weather\\nG.O.O.D. Music, \\'Ye weather\\nChampagne just tastes better\\nThey told me I never, boy, never say never\\nSwear flow special like an infant\\'s first steps\\nI got paid then reversed debts\\nThen I finally found a girl that reverse stress\\nSo now I\\'m talkin\\' to the reaper to reverse death\\nYep, so I can kick it with my granddad, take him for a ride\\nShow him I made somethin\\' out myself and not just tried\\nShow him the house I bought the fam, let him tour inside\\nNo matter how far ahead I get, I always feel behind in my mind\\nBut fuck tryin\\' and not doin\\'\\n‘Cause not doin\\' is somethin\\' a nigga not doin\\'\\nI said fuck tryin\\' and not doin\\'\\n‘Cause not doin\\' is somethin\\' a nigga not doin\\'\\nI grew up to Em, B.I.G., and Pac, bitch, and got ruined\\nSo until I got the same crib B.I.G. had in that \"Juicy\" vid\\nBitch, I can\\'t motherfuckin\\' stop movin\\'\\nGo against me, you won\\'t stop losin\\'\\nFrom the city where every month is May-Day at home, spray your dome\\nNiggas get sprayed up like A.K. was cologne for a paycheck or loan\\nYeah, I know that shit ain\\'t fair\\nThey say Detroit ain\\'t got a chance, we ain\\'t even got a mayor\\nYou write your name with a Sharpie, I write mine in stone\\nI knew the world was for the taking and wouldn\\'t take long\\nWe on, tryna be better than everybody that\\'s better than everybody\\nRep Detroit, everybody, Detroit vers\\' everybody\\nI\\'m so fuckin\\' first class I could spit up on every pilot\\nThe city\\'s my Metropolis, feel it, it\\'s metabolic\\nAnd I\\'m over niggas sayin\\' they\\'re the hottest niggas\\nThen run to the hottest niggas just to stay hot\\nI\\'m one of the hottest because I flame drop\\nDrop fire, and not because I\\'m namedroppin\\', Hall of Fame droppin\\'\\nAnd I ain\\'t takin\\' shit from nobody unless they\\'re OGs\\n‘Cause that ain\\'t the way of a OG\\nSo I G-O collect mo\\' Gs, every dollar\\nNever changed though, I\\'m just the new version of old me\\nForever hot-headed but never got cold feet\\nGot up in the game, won\\'t look back at my old seats\\nClique so deep we take up the whole street\\nI need a bitch so bad that she take up my whole week\\nSean Don\\n[Bridge: Kendrick Lamar]\\nMiscellaneous minds are never explainin\\' their minds\\nDevilish grin for my alias aliens to respond\\nPeddlin\\' sin, thinkin\\' maybe when you get old you realize\\nI\\'m not gonna fold or demise\\nI don\\'t smoke crack, motherfucker, I sell it!\\nBitch, everything I rap is a quarter piece to your melon\\nSo if you have a relapse, just relax and pop in my disc\\nDon\\'t you pop me no fuckin\\' pill\\nI\\'ma pop you, then give you this\\n\\n[Verse 2: Kendrick Lamar]\\nTell Flex to drop a bomb on this shit\\nSo many bombs, ring the alarm, like Vietnam on this shit\\nSo many bombs, make Farrakhan think that Saddam in this bitch\\nOne at a time, I line them up\\nAnd bomb on they mom while she watchin\\' the kids\\nI\\'m in a destruction mode if the gold exists\\nI\\'m important like the Pope, I\\'m a Muslim on pork\\nI\\'m Makaveli\\'s offspring, I\\'m the King of New York\\nKing of the Coast; one hand, I juggle \\'em both\\nThe juggernaut\\'s all in your jugular, you take me for jokes\\nLive in the basement, church pews, and funeral faces\\nCartier bracelets for my women friends, I\\'m in Vegas\\nWho the fuck y\\'all thought it\\'s supposed to be?\\nIf Phil Jackson came back, still no coachin\\' me\\nI\\'m uncoachable, I\\'m unsociable, fuck y\\'all clubs!\\nFuck y\\'all pictures! Your Instagram can gobble these nuts!\\nGobble dick up \\'til you hiccup, my big homie Kurupt\\nThis the same flow that put the rap game on a crutch\\n(West, West, West, West, West, West)\\nI\\'ve seen niggas transform like villain Decepticons\\nMollies probably turn these niggas to fuckin\\' Lindsay Lohan\\nA bunch of rich-ass white girls lookin\\' for parties\\nPlayin\\' with Barbies\\nWreck the Porsche before you give them the car key\\nJudgement to the monarchy, blessings to Paul McCartney\\nYou called me a black Beatle, I\\'m either that or a Marley\\nI don\\'t smoke crack, motherfucker, I sell it!\\nI\\'m dressed in all black, this is not for the fan of Elvis\\nI\\'m aimin\\' straight for your pelvis\\nYou can\\'t stomach me? You plan on stumpin\\' me?\\nBitch, I’ve been jumped before you put a gun on me\\nBitch, I put one on yours, I\\'m Sean Connery\\nJames Bonding with none of you niggas\\nClimbin\\' 100 mil in front of me\\nAnd I\\'m gonna get it even if you\\'re in the way\\nAnd if you\\'re in it, better run for Pete\\'s sake\\nI heard the barbershops be in great debates all the time\\n\\'Bout who\\'s the best MC: Kendrick, Jigga, and Nas\\nEminem, André 3000; the rest of y\\'all\\nNew niggas just new niggas, don\\'t get involved\\nAnd I ain\\'t rockin\\' no more designer shit\\nWhite T’s and Nike Cortez, this red Corvette\\'s anonymous\\nI\\'m usually homeboys with the same niggas I\\'m rhymin\\' with\\nBut this is hip-hop, and them niggas should know what time it is\\nAnd that goes for Jermaine Cole, Big K.R.I.T., Wale\\nPusha T, Meek Millz, A$AP Rocky, Drake\\nBig Sean, Jay Electron\\', Tyler, Mac Miller\\nI got love for you all, but I\\'m tryna murder you niggas\\nTryna make sure your core fans never heard of you niggas\\nThey don\\'t wanna hear not one more noun or verb from you niggas\\nWhat is competition? I\\'m tryna raise the bar high\\nWho tryna jump and get it? You\\'re better off tryna skydive\\nOut the exit window of five G5\\'s with five grand\\nWith your granddad as the pilot, he drunk as fuck, tryna land\\nWith the hand full of arthritis and poppin\\' prosthetic leg\\nBumpin\\' Pac in the cockpit so the shit that pops in his head\\nIs an option of violence, someone heard the stewardess said\\nThat your parachute is a latex condom hooked to a dread\\nWest Coast\\n[Verse 3: Jay Electronica]\\nYou could check my name on the books\\nI Earth Wind & Fire’d the verse, then reigned on the hook\\nThe legend of Dorothy Flowers proclaimed from the roof\\nThe tale of a magnificent king who came from the nooks\\nOf the wild magnolia, mother of many soldiers\\nWe live by every single word she ever told us\\nWatch over your shoulders\\nAnd keep a tin of beans for when the weather turn the coldest\\nThe Lord is our shepherd, so our cup runneth over\\nPut your trust in the Lord, but tether your Chevy Nova\\nI’m spittin\\' this shit for closure\\nAnd God is my witness, so you could get it from Hova\\nTo all you magicians that’s fidgetin\\' with the cobra\\nI’m solid as a rock, ‘cause I came from a rock\\nThat’s why I came with the rock\\nThen signed my name on the Roc\\nDraw a line around some Earth, then put my name on the plot\\n‘Cause I endured a lot of pain for everythang that I got\\nThe eyelashes like umbrellas when it rain from the heart\\nAnd the tissue is like an angel kissin\\' you in the dark\\nYou go from blind sight to hindsight\\nPassion of the Christ, right, to baskin\\' in the limelight\\nIt take time to get your mind right\\nJay Electricity, PBS Mysteries\\nIn a lofty place tanglin\\' with Satan over history\\nYou can’t say shit to me, الحمد لله\\u200e\\nIt’s strictly by faith that we made it this far', 'sadness')\n",
      "(245464, 'FEFE', 'rap', '6ix9ine', 2018, 4558659, '[Intro: 6ix9ine, Nicki Minaj & Baka]\\nIt\\'s fuckin\\' TR3YWAY!\\nKing of New York, lookin\\' for the Queen\\nUh, you got the right one, hmm\\nL-let these-l-let these b-b-bitches know, nigga\\nQueens, Brooklyn, brrr, ah!\\nMurda on the beat so it\\'s not nice!\\n\\n[Verse 1: 6ix9ine]\\nPussy got that wet, wet, got that drip, drip\\nGot that super soaker, hit that\\nShe a Fefe, her name Keke\\nShe eat my dick like it\\'s free, free\\nI don\\'t even know like \"Why I did that?\"\\nI don\\'t even know like \"Why I hit that?\"\\nAll I know is that I just can\\'t wife that\\nTalk to her nice so she won\\'t fight back\\nTurn around and hit it from the back, back, back\\nBend her down then I make it clap, clap, clap\\n\\n[Chorus: 6ix9ine]\\nI don\\'t really want no friends\\nI don\\'t really want no friends, no\\n[Verse 2: 6ix9ine]\\nDraco got that kick-back when I blow that, they all do track\\nThey don\\'t shoot back, one shot, close range, red dot\\nHead tight, yeah, I did that, yeah, I live that\\nCall a Uber with my shooter, with a Ruger, we gon\\' do ya\\nNiggas say they killin\\' people, but I really fuckin\\' do it\\n\\n[Chorus: 6ix9ine]\\nI don\\'t really want no friends\\nI don\\'t really want no friends, no\\n\\n[Verse 3: Nicki Minaj]\\nHe-he tryna 69 like Tekashi, call him papi\\nWord to A$AP, keep me Rocky, I\\'m from New York, so I\\'m cocky\\nSay he fuckin\\' with my posse, copped me Khloé like Kardashi\\'\\nKeep this pussy in Versace, said I\\'m pretty like Tinashe\\nPut-put it all up in his face, did I catch a case?\\nPussy game just caught a body, but I never leave a trace\\nFace is pretty, ass for days, I get chips, I ask for Lay\\'s\\nI just sit back and when he done, I be like, \"Yo, how\\'d it taste?\"\\n(Yo, how\\'d it taste?)\\n\\n[Chorus: 6ix9ine]\\nI don\\'t really want no friends\\nI don\\'t really want no friends, no\\n[Verse 4: Nicki Minaj]\\nAyo, Draco got that kick-back\\nWhen it kick-back, you can\\'t get yo shit back\\nIn fact this that bitch that\\n\"I hate small talk, I don\\'t fuck with chit-chat\"\\nAC just stopped workin\\'\\nSo they hit me, told me bring my wrist back\\nCome through rockin\\' fashions\\nThat got all these bitches like \"Yo, what\\'s that?\"\\n(Like \"Yo, what\\'s that?\")\\n\\n[Chorus: 6ix9ine & Nicki Minaj]\\nI don\\'t really want no friends\\nI don\\'t really want no friends, no\\n\\n[Bridge: 6ix9ine & Nicki Minaj]\\nEeny, meeny, miny, moe\\nI catch a ho right by her toe\\nIf she ain\\'t fuckin\\' me and Nicki\\nKick that ho right through the door (TR3YWAY)\\nI don\\'t really want no friends, my old ho just bought this Benz\\nNicki just hopped in this shit, now I won\\'t see that bitch again\\nEeny, meeny, miny, moe (no)\\nI catch a ho right by her toe (no)\\nIf she ain\\'t fuckin\\' me and Nicki\\nKick that ho right through the door (no, TR3YWAY)\\n[Outro: Nicki Minaj & 6ix9ine]\\nMmm, Young Money, Young Money bunny\\nColorful hair, don\\'t care\\nI don\\'t really want no friends\\nI don\\'t really want no friends, no\\nI don\\'t really want no friends\\nI don\\'t really want no friends, no\\nScum Gang!', None)\n"
     ]
    }
   ],
   "source": [
    "query = f\"SELECT * FROM {name_of_table} ORDER BY views DESC LIMIT 10;\"\n",
    "result = query_database(query)\n",
    "for row in result:\n",
    "    print(row)"
   ]
  },
  {
   "cell_type": "markdown",
   "metadata": {},
   "source": [
    "# Preprocessing"
   ]
  },
  {
   "cell_type": "code",
   "execution_count": 7,
   "metadata": {},
   "outputs": [
    {
     "name": "stderr",
     "output_type": "stream",
     "text": [
      "c:\\Users\\Moniba\\.conda\\envs\\best\\lib\\site-packages\\transformers\\pipelines\\text_classification.py:104: UserWarning: `return_all_scores` is now deprecated,  if want a similar functionality use `top_k=None` instead of `return_all_scores=True` or `top_k=1` instead of `return_all_scores=False`.\n",
      "  warnings.warn(\n"
     ]
    }
   ],
   "source": [
    "# model to find the emotion\n",
    "device = 0 if torch.cuda.is_available() else -1  # Use device 0 for GPU, -1 for CPU\n",
    "\n",
    "# Load the emotion classifier with GPU support if available\n",
    "emotion_classifier = pipeline(\n",
    "    \"text-classification\",\n",
    "    model=\"j-hartmann/emotion-english-distilroberta-base\",\n",
    "    return_all_scores=True,\n",
    "    device=device  # Specify the device here\n",
    ")"
   ]
  },
  {
   "cell_type": "code",
   "execution_count": 8,
   "metadata": {},
   "outputs": [
    {
     "name": "stderr",
     "output_type": "stream",
     "text": [
      "c:\\Users\\Moniba\\.conda\\envs\\best\\lib\\site-packages\\transformers\\models\\roberta\\modeling_roberta.py:370: UserWarning: 1Torch was not compiled with flash attention. (Triggered internally at C:\\cb\\pytorch_1000000000000\\work\\aten\\src\\ATen\\native\\transformers\\cuda\\sdp_utils.cpp:263.)\n",
      "  attn_output = torch.nn.functional.scaled_dot_product_attention(\n"
     ]
    },
    {
     "data": {
      "text/plain": [
       "'sadness'"
      ]
     },
     "execution_count": 8,
     "metadata": {},
     "output_type": "execute_result"
    }
   ],
   "source": [
    "def get_mood(text_input):\n",
    "\n",
    "    # Tokenize the input text first using the tokenizer\n",
    "    tokenizer = emotion_classifier.tokenizer  # Get the tokenizer from the pipeline\n",
    "    tokens = tokenizer.tokenize(text_input)\n",
    "    # Truncate the tokenized input to the model's maximum token limit (e.g., 512 tokens)\n",
    "    # Leave space for special tokens\n",
    "    truncated_tokens = tokens[:min(200, len(tokens))]\n",
    "    \n",
    "    truncated_text = tokenizer.convert_tokens_to_string(truncated_tokens)\n",
    "    moods = emotion_classifier(truncated_text)\n",
    "    if type(moods) == list and type(moods[0]) == list:\n",
    "        moods = moods[0]\n",
    "\n",
    "    # Sort moods by score (confidence)\n",
    "    moods_sorted = sorted(moods, key=lambda x: x['score'], reverse=True)\n",
    "    # Get the top mood with the highest confidence\n",
    "    mood = moods_sorted[0]['label']\n",
    "    return mood\n",
    "get_mood(\"I wanna cry\")\n"
   ]
  },
  {
   "cell_type": "markdown",
   "metadata": {},
   "source": [
    "## Add emotion columns"
   ]
  },
  {
   "cell_type": "code",
   "execution_count": 9,
   "metadata": {},
   "outputs": [],
   "source": [
    "def add_column(column_name = \"emotion\", table_name='music', db_name='music_data.db'):\n",
    "    conn = sqlite3.connect(db_name)\n",
    "    cursor = conn.cursor()\n",
    "    # Add a new column 'emotion' to the table\n",
    "    cursor.execute(f\"ALTER TABLE {table_name} ADD COLUMN {column_name} TEXT;\")\n",
    "    print(f\"Column '{column_name}' has been added to the table.\")\n",
    "    conn.commit()\n",
    "    conn.close()\n",
    "# add_column(table_name='temp')"
   ]
  },
  {
   "cell_type": "markdown",
   "metadata": {},
   "source": [
    "## Update emotion"
   ]
  },
  {
   "cell_type": "code",
   "execution_count": 10,
   "metadata": {},
   "outputs": [],
   "source": [
    "def update_emotion(column_name=\"emotion\", table_name='music', db_name='music_data.db', batch_size=1000):\n",
    "    \n",
    "    from nltk.tokenize import word_tokenize\n",
    "\n",
    "    # Connect to the database\n",
    "    conn = sqlite3.connect(db_name)\n",
    "    cursor = conn.cursor()\n",
    "\n",
    "    offset = 0\n",
    "    while True:\n",
    "        # Fetch a batch of songs\n",
    "        cursor.execute(f\"SELECT id, lyrics FROM {table_name} LIMIT {batch_size} OFFSET {offset}\")\n",
    "        songs = cursor.fetchall()\n",
    "\n",
    "        # If no more rows are fetched, break out of the loop\n",
    "        if not songs:\n",
    "            break\n",
    "\n",
    "        updates = []\n",
    "        # Update each song with its corresponding emotion\n",
    "        for song in songs:\n",
    "            song_id, lyrics = song\n",
    "            tokens = word_tokenize(lyrics, preserve_line=True)\n",
    "            # Lowercase and remove punctuation\n",
    "            tokens = [word.lower() for word in tokens if word.isalpha()]\n",
    "            truncated_text = ' '.join(tokens[:min(200, len(tokens))])\n",
    "            emotion = get_mood(truncated_text)\n",
    "            updates.append((emotion, song_id))\n",
    "            # Print or log the current row being processed\n",
    "            # print(f\"Updating song ID: {song_id} with emotion: {emotion}\")\n",
    "            \n",
    "        # Perform a batch update\n",
    "        if updates:\n",
    "            retry_attempts = 5\n",
    "            for attempt in range(retry_attempts):\n",
    "                try:\n",
    "                    cursor.executemany(f\"\"\"\n",
    "                        UPDATE {table_name}\n",
    "                        SET {column_name} = ?\n",
    "                        WHERE id = ?\n",
    "                    \"\"\", updates)\n",
    "                    print(f\"{offset} done!\")\n",
    "                    break  # Exit retry loop on success\n",
    "                except sqlite3.OperationalError as e:\n",
    "                    if \"database is locked\" in str(e):\n",
    "                        print(f\"Database locked. Retrying ({attempt + 1}/{retry_attempts})...\")\n",
    "                        time.sleep(0.5)  # Wait before retrying\n",
    "                    else:\n",
    "                        raise  # Reraise if it's a different error\n",
    "            else:\n",
    "                print(f\"Failed to update after {retry_attempts} attempts.\")\n",
    "            \n",
    "        # Commit the changes to the database after each batch\n",
    "        conn.commit()\n",
    "\n",
    "        # Move to the next batch\n",
    "        offset += batch_size\n",
    "\n",
    "    # Close the connection\n",
    "    conn.close()\n",
    "\n",
    "# update_emotion(table_name='temp')"
   ]
  },
  {
   "cell_type": "markdown",
   "metadata": {},
   "source": [
    "# Interface"
   ]
  },
  {
   "cell_type": "markdown",
   "metadata": {},
   "source": [
    "## functions"
   ]
  },
  {
   "cell_type": "markdown",
   "metadata": {},
   "source": [
    "### prompt engineering / rules"
   ]
  },
  {
   "cell_type": "code",
   "execution_count": null,
   "metadata": {},
   "outputs": [],
   "source": [
    "# Initialize the chatbot as a Lyrics Expert\n",
    "def become_lyrics_expert(converted_history):\n",
    "    # Act as a Lyrics Expert\n",
    "    converted_history.append({\"role\": \"user\", \"parts\": \"You are a lyrics expert. Answer only lyrics-related questions.\"})\n",
    "    converted_history.append({\"role\": \"model\", \"parts\": \"Understood! I’m here to provide insights and suggestions based on song lyrics.\"})\n",
    "\n",
    "    # User level\n",
    "    converted_history.append({\"role\": \"user\", \"parts\": \"You're talking to someone who loves analyzing lyrics.\"})\n",
    "    converted_history.append({\"role\": \"model\", \"parts\": \"Great! I’ll provide detailed analyses and song recommendations based on lyrics.\"})\n",
    "\n",
    "    # Keywords in lyrics\n",
    "    converted_history.append({\"role\": \"user\", \"parts\": \"The user is looking for songs containing specific keywords.\"})\n",
    "    converted_history.append({\"role\": \"model\", \"parts\": \"I’ll suggest songs that contain the provided keywords in their lyrics.\"})\n",
    "\n",
    "    # Positive or negative preference\n",
    "    converted_history.append({\"role\": \"user\", \"parts\": \"The user has a preference for songs with positive or negative lyrics.\"})\n",
    "    converted_history.append({\"role\": \"model\", \"parts\": \"I’ll provide song recommendations based on the user's preference for either positive or negative lyrics.\"})\n",
    "\n",
    "    # Sensitive topic (suicide)\n",
    "    converted_history.append({\"role\": \"user\", \"parts\": \"The user may express suicidal thoughts.\"})\n",
    "    converted_history.append({\"role\": \"model\", \"parts\": \"I’ll respond with positive messages and suggest uplifting songs to provide support and encouragement.\"})\n",
    "\n",
    "    # No small talk\n",
    "    converted_history.append({\"role\": \"user\", \"parts\": \"Do not engage in small talk.\"})\n",
    "    converted_history.append({\"role\": \"model\", \"parts\": \"Understood! I’ll focus solely on lyrics-related inquiries without casual conversation.\"})\n",
    "\n",
    "    # Solely Lyrics\n",
    "    converted_history.append({\"role\": \"user\", \"parts\": \"Only discuss lyrics analysis. No way to talk about anything else.\"})\n",
    "    converted_history.append({\"role\": \"model\", \"parts\": \"I’ll ensure all responses are strictly related to analyzing lyrics, song suggestions, and recommendations.\"})\n",
    "\n",
    "    # Sensetive topics: # Sucide\n",
    "    converted_history.append({\"role\": \"user\", \"parts\": \"Only discuss lyrics analysis. No way to talk about anything else.\"})\n",
    "    converted_history.append({\"role\": \"model\", \"parts\": \"I’ll ensure all responses are strictly related to analyzing lyrics, song suggestions, and recommendations.\"})\n",
    "\n",
    "    # if \"suicide\" in user_message.lower():\n",
    "    #     positive_response = {\n",
    "    #         \"response\": \"I'm really sorry you're feeling this way, but I'm here to support you. Here's a positive song that might lift your spirits.\",\n",
    "    #         \"suggested_songs\": get_songs_by_mood(\"positive\")\n",
    "    #     }\n",
    "# Add to the history\n",
    "def add_last_history(converted_history, last_history):\n",
    "    user_message, model_response = last_history\n",
    "    if user_message and model_response:\n",
    "        converted_history.append({\"role\": \"user\", \"parts\": user_message})\n",
    "        converted_history.append({\"role\": \"model\", \"parts\": model_response})\n"
   ]
  },
  {
   "cell_type": "markdown",
   "metadata": {},
   "source": [
    "### prompt to query"
   ]
  },
  {
   "cell_type": "code",
   "execution_count": null,
   "metadata": {},
   "outputs": [],
   "source": [
    "def prompt_to_generate_sql(user_input, table_name):\n",
    "    prompt = f\"\"\"\n",
    "    You are an expert in converting English questions to SQL queries!\n",
    "    The SQL database has one table. The name of the table is '{table_name}'.\n",
    "    \n",
    "    The '{table_name}' table has the following columns:\n",
    "    'id', 'title', 'tag', 'artist', 'year', 'views', 'lyrics'\n",
    "\n",
    "    Your job is to write an SQL query based on the given prompt. Focus on retrieving songs using relevant columns such as 'title', 'artist', 'views', 'lyrics', etc.\n",
    "\n",
    "    Example user input: Show me songs from 2020.\n",
    "    SQL query: SELECT title FROM {table_name} WHERE year = 2020;\n",
    "\n",
    "    Example user input: what is this song that says \"I'm in love with the shape of you\n",
    "    We push and pull like a magnet do\n",
    "    Although my heart is fallin' too\"\n",
    "    SQL query: SELECT title, artist FROM {table_name} WHERE lyrics LIKE '%I'm in love with the shape of you We push and pull like a magnet do Although my heart is fallin' too%';\n",
    "\n",
    "    Example user input: Show me the best music by Ed Sheeran.\n",
    "    SQL query: SELECT title, artist FROM {table_name} WHERE artist = 'Ed Sheeran' ORDER BY views DESC LIMIT 1;\n",
    "\n",
    "    Example user input: Query the 10 most viewed songs by Ed Sheeran.\n",
    "    SQL query: SELECT title, artist, views FROM {table_name} WHERE artist = 'Ed Sheeran' ORDER BY views DESC LIMIT 10;\n",
    "\n",
    "    Example user input: {user_input}\n",
    "    \"\"\"\n",
    "    return prompt\n"
   ]
  },
  {
   "cell_type": "markdown",
   "metadata": {},
   "source": [
    "### query to respond"
   ]
  },
  {
   "cell_type": "code",
   "execution_count": null,
   "metadata": {},
   "outputs": [],
   "source": [
    "def prompt_for_friendly_response(sql_result):\n",
    "    prompt = f\"\"\"\n",
    "    You are an expert in converting SQL results into user-friendly responses.\n",
    "    Here's the SQL result: {sql_result}\n",
    "    \n",
    "    Your task is to generate a descriptive response based on the data. Make sure the response is meaningful and easy to understand.\n",
    "\n",
    "    For example, if the result shows the total number of songs or the average duration of songs, mention it clearly. If it shows the titles of songs, list them with proper formatting.\n",
    "    \"\"\"\n",
    "    return prompt"
   ]
  },
  {
   "cell_type": "markdown",
   "metadata": {},
   "source": [
    "### define the model"
   ]
  },
  {
   "cell_type": "code",
   "execution_count": 11,
   "metadata": {},
   "outputs": [],
   "source": [
    "genai.configure(api_key=os.environ[\"API_KEY\"])\n",
    "model = genai.GenerativeModel(\"gemini-1.5-flash\", safety_settings=\"BLOCK_NONE\",\n",
    "        system_instruction=\"You are a song expert.\")\n",
    "#Starting a chat so we can give the bot memory using the history\n",
    "\n",
    "chat = model.start_chat(history=[])"
   ]
  },
  {
   "cell_type": "code",
   "execution_count": 12,
   "metadata": {},
   "outputs": [],
   "source": [
    "def response(inputs, history, temperature=0.7, top_k=50, top_p=0.9):\n",
    "    # Add the last history\n",
    "    become_lyrics_expert(history)\n",
    "    ## how????????? ask Sissiiiiiiiiiiiiiiiiiiiiiiiiiiiiiii\n",
    "    \n",
    "    # If prompt is empty\n",
    "    if inputs['text'] == '' and inputs['files'] == []:\n",
    "        return \"Please provide text input or upload an image.\"\n",
    "\n",
    "    # If prompt is text-only\n",
    "    if inputs['files'] == []:\n",
    "        \n",
    "        user_input = inputs[\"text\"].lower()\n",
    "        print(user_input)\n",
    "        if \"hello\" in user_input:\n",
    "            return \"Hello! I am a melody expert. Ask me anything about songs or artists.\"\n",
    "        elif \"bye\" in user_input:\n",
    "            return \"Goodbye! Have a great day!\"\n",
    "        else:\n",
    "            # input -> output\n",
    "            # part of lyrics -> title, singer, whole lyrics\n",
    "            # singer, title -> lyrics\n",
    "            # feeling -> music suggestion\n",
    "            # query = chat.send_message(inputs[\"text\"].lower())\n",
    "            # result_from_db = query_database(query)\n",
    "            prompt = prompt_to_generate_sql(inputs[\"text\"].lower())\n",
    "            response_from_api = chat.send_message(prompt, stream=True)\n",
    "        \n",
    "            # Stream\n",
    "            result = \"\"\n",
    "            try:\n",
    "                # Yield each chunk as it is received\n",
    "                for chunk in response_from_api:\n",
    "                    result += chunk.text \n",
    "                    yield result \n",
    "            except Exception as e:\n",
    "                print(f\"Streaming failed: {e}\")\n",
    "                # Use rewind to attempt to resend the message\n",
    "                chat.rewind()\n",
    "                response_from_api = chat.send_message(inputs[\"text\"].lower(), stream=True)\n",
    "                for chunk in response_from_api:\n",
    "                    result += chunk.text \n",
    "                    yield result \n",
    "\n",
    "\n",
    "    # Handle image-based inputs (use similar logic to your existing image handling)\n",
    "    elif inputs['files'] != []:\n",
    "        # Placeholder for image handling logic\n",
    "        im = Image.open(inputs['files'][0]['path'])\n",
    "        p = model.generate_content([\n",
    "            \"Provide a JSON answer with the following information: song title, artist, \"\n",
    "            \"confidence of song match (number between 0 and 1), genre, mood (positive/negative), \"\n",
    "            \"is this song recommended for your mood (Boolean)?\", im\n",
    "        ], generation_config=genai.types.GenerationConfig(\n",
    "            temperature=temperature,\n",
    "            top_k=top_k,\n",
    "            top_p=top_p\n",
    "        )).text\n",
    "\n",
    "            # Summarize the image information if no additional text is provided\n",
    "        if inputs['text'] == '':\n",
    "            return model.generate_content(\n",
    "                [\"Summarize briefly the information in\", p],\n",
    "                generation_config=genai.types.GenerationConfig(\n",
    "                    temperature=temperature,\n",
    "                    top_k=top_k,\n",
    "                    top_p=top_p\n",
    "                )\n",
    "            ).text\n",
    "        else:\n",
    "            try:\n",
    "                return model.generate_content(\n",
    "                    [inputs['text'], im],\n",
    "                    generation_config=genai.types.GenerationConfig(\n",
    "                        temperature=temperature,\n",
    "                        top_k=top_k,\n",
    "                        top_p=top_p\n",
    "                    )\n",
    "                ).text\n",
    "            except Exception as e:\n",
    "                return f\"Your prompt triggered a safety filter. Error: {e}\"\n",
    "\n",
    "    "
   ]
  },
  {
   "cell_type": "markdown",
   "metadata": {},
   "source": [
    "## Run"
   ]
  },
  {
   "cell_type": "code",
   "execution_count": 13,
   "metadata": {},
   "outputs": [
    {
     "name": "stderr",
     "output_type": "stream",
     "text": [
      "c:\\Users\\Moniba\\.conda\\envs\\best\\lib\\site-packages\\gradio\\blocks.py:985: UserWarning: Theme should be a class loaded from gradio.themes\n",
      "  warnings.warn(\"Theme should be a class loaded from gradio.themes\")\n"
     ]
    },
    {
     "name": "stdout",
     "output_type": "stream",
     "text": [
      "Running on local URL:  http://127.0.0.1:7860\n"
     ]
    },
    {
     "name": "stderr",
     "output_type": "stream",
     "text": [
      "c:\\Users\\Moniba\\.conda\\envs\\best\\lib\\site-packages\\gradio\\analytics.py:106: UserWarning: IMPORTANT: You are using gradio version 4.44.1, however version 5.0.1 is available, please upgrade. \n",
      "--------\n",
      "  warnings.warn(\n"
     ]
    },
    {
     "name": "stdout",
     "output_type": "stream",
     "text": [
      "Running on public URL: https://d096e5f103fff9e27c.gradio.live\n",
      "\n",
      "This share link expires in 72 hours. For free permanent hosting and GPU upgrades, run `gradio deploy` from Terminal to deploy to Spaces (https://huggingface.co/spaces)\n"
     ]
    },
    {
     "data": {
      "text/html": [
       "<div><iframe src=\"https://d096e5f103fff9e27c.gradio.live\" width=\"100%\" height=\"500\" allow=\"autoplay; camera; microphone; clipboard-read; clipboard-write;\" frameborder=\"0\" allowfullscreen></iframe></div>"
      ],
      "text/plain": [
       "<IPython.core.display.HTML object>"
      ]
     },
     "metadata": {},
     "output_type": "display_data"
    }
   ],
   "source": [
    "import gradio.themes as themes  # Import Gradio themes\n",
    "\n",
    "# Create the Gradio app with a theme and examples\n",
    "with gr.Blocks(theme=themes, fill_height=True) as demo:\n",
    "    # Define a ChatInterface with multimodal support\n",
    "    chatbot = gr.ChatInterface(\n",
    "        multimodal=True,    # Supports text and images\n",
    "        fn=response,        # The function that processes the user input\n",
    "        title=\"🎵 Your best Melody Expert 🎵\",  # Title of the chatbot\n",
    "    )\n",
    "    \n",
    "if __name__ == \"__main__\":\n",
    "    # Launch the Gradio app with public sharing enabled\n",
    "    demo.launch(share=True)"
   ]
  },
  {
   "cell_type": "code",
   "execution_count": null,
   "metadata": {},
   "outputs": [],
   "source": []
  }
 ],
 "metadata": {
  "kernelspec": {
   "display_name": "Python 3 (ipykernel)",
   "language": "python",
   "name": "python3"
  },
  "language_info": {
   "codemirror_mode": {
    "name": "ipython",
    "version": 3
   },
   "file_extension": ".py",
   "mimetype": "text/x-python",
   "name": "python",
   "nbconvert_exporter": "python",
   "pygments_lexer": "ipython3",
   "version": "3.9.18"
  }
 },
 "nbformat": 4,
 "nbformat_minor": 4
}
