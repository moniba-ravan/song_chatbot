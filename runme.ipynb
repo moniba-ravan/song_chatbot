{
 "cells": [
  {
   "cell_type": "markdown",
   "metadata": {},
   "source": [
    "# Libraries"
   ]
  },
  {
   "cell_type": "code",
   "execution_count": 1,
   "metadata": {},
   "outputs": [],
   "source": [
    "import gradio as gr\n",
    "import google.generativeai as genai\n",
    "import pandas as pd\n",
    "import sqlite3\n",
    "import torch\n",
    "from transformers import pipeline\n",
    "\n",
    "import os"
   ]
  },
  {
   "cell_type": "markdown",
   "metadata": {},
   "source": [
    "# Parameters"
   ]
  },
  {
   "cell_type": "code",
   "execution_count": 2,
   "metadata": {},
   "outputs": [],
   "source": [
    "dataset_path = \"data/song_lyrics 2.csv\"\n",
    "name_of_table =  \"music\" # after 2014 and views 100000"
   ]
  },
  {
   "cell_type": "markdown",
   "metadata": {},
   "source": [
    "# Loading Dataset to database"
   ]
  },
  {
   "cell_type": "code",
   "execution_count": 3,
   "metadata": {},
   "outputs": [],
   "source": [
    "\n",
    "def delete_tables(db_name='music_data.db', tables_to_delete=['music', 'temp']):\n",
    "    # Create SQLite database connection\n",
    "    conn = sqlite3.connect(db_name)\n",
    "    \n",
    "    # Drop specified tables if they exist\n",
    "    for table_name in tables_to_delete:\n",
    "        conn.execute(f\"DROP TABLE IF EXISTS {table_name};\")\n",
    "        print(f\"Table {table_name} has been deleted if it existed.\")\n",
    "    \n",
    "    # Close the connection\n",
    "    conn.close()\n",
    "\n",
    "# Usage\n",
    "# delete_tables()  # Add more table names if needed\n"
   ]
  },
  {
   "cell_type": "code",
   "execution_count": 4,
   "metadata": {},
   "outputs": [],
   "source": [
    "def vacuum_database(db_name='music_data.db'):\n",
    "    # Create SQLite database connection\n",
    "    conn = sqlite3.connect(db_name)\n",
    "    \n",
    "    # Execute the VACUUM command\n",
    "    conn.execute(\"VACUUM;\")\n",
    "    print(f\"The database {db_name} has been vacuumed to reclaim disk space.\")\n",
    "    \n",
    "    # Close the connection\n",
    "    conn.close()\n",
    "\n",
    "# Usage\n",
    "# vacuum_database()"
   ]
  },
  {
   "cell_type": "code",
   "execution_count": 5,
   "metadata": {},
   "outputs": [],
   "source": [
    "def load_data_to_sqlite(dataset_path, frac=1, random_state=42, db_name='music_data.db', table_name='music', batch_size=50000):\n",
    "    # Create SQLite database connection\n",
    "    conn = sqlite3.connect(db_name)\n",
    "    \n",
    "    # # Drop the table if it exists\n",
    "    # conn.execute(f\"DROP TABLE IF EXISTS {table_name};\")\n",
    "    # print(f\"Table {table_name} has been deleted if it existed.\")\n",
    "    \n",
    "    # Create a new table with id as the primary key\n",
    "    conn.execute(f'''\n",
    "    CREATE TABLE IF NOT EXISTS {table_name} (\n",
    "        id INTEGER PRIMARY KEY,\n",
    "        title TEXT NOT NULL,\n",
    "        tag TEXT NOT NULL,\n",
    "        artist TEXT NOT NULL,\n",
    "        year INTEGER NOT NULL,\n",
    "        views INTEGER NOT NULL,\n",
    "        lyrics TEXT NOT NULL\n",
    "    );\n",
    "    ''')\n",
    "    \n",
    "    # Initialize a counter for total rows\n",
    "    total_rows = 0\n",
    "\n",
    "    # Read and process the CSV in chunks\n",
    "    for chunk in pd.read_csv(dataset_path, chunksize=batch_size):\n",
    "        \n",
    "        # Randomly sample from the current chunk\n",
    "        sampled_chunk = chunk.sample(frac=frac, random_state=random_state)\n",
    "        \n",
    "        # Select the relevant columns\n",
    "        selected_columns = sampled_chunk[['title', 'tag', 'artist', 'year', 'views', 'lyrics']]\n",
    "        \n",
    "        # Remove rows with None values\n",
    "        selected_columns = selected_columns.dropna()\n",
    "        \n",
    "        # Filter rows with views > 100000 and year > 2014\n",
    "        selected_columns = selected_columns[(selected_columns['views'] > 100000) & (selected_columns['year'] > 2014)]\n",
    "        \n",
    "        # Add a primary key column (ID)\n",
    "        # Adjust the range based on total_rows for ID continuity\n",
    "        selected_columns['id'] = range(total_rows + 1, total_rows + len(selected_columns) + 1)\n",
    "        \n",
    "        # Check if there are rows to insert after filtering\n",
    "        if not selected_columns.empty:\n",
    "            # Insert data into the table\n",
    "            selected_columns.to_sql(table_name, conn, if_exists='append', index=False)\n",
    "            # Update the total rows count\n",
    "            total_rows += len(selected_columns)\n",
    "            # Print progress\n",
    "            print(f\"Inserted {len(selected_columns)} rows. Total rows inserted: {total_rows}\")\n",
    "        else:\n",
    "            print(\"No rows to insert after filtering.\")\n",
    "\n",
    "    # Print the structure of the table\n",
    "    print(\"Table Structure:\")\n",
    "    structure_query = conn.execute(f\"PRAGMA table_info({table_name});\")\n",
    "    for column_info in structure_query.fetchall():\n",
    "        print(column_info)\n",
    "    \n",
    "    # Query the table to verify data has been loaded\n",
    "    query = conn.execute(f\"SELECT COUNT(*) FROM {table_name}\")\n",
    "    row_count = query.fetchone()[0]\n",
    "    print(f\"Total rows in the table: {row_count}\")\n",
    "    \n",
    "    # Close the connection\n",
    "    conn.close()\n"
   ]
  },
  {
   "cell_type": "code",
   "execution_count": 6,
   "metadata": {},
   "outputs": [],
   "source": [
    "\n",
    "# Loading the whole dataset to database\n",
    "# load_data_to_sqlite(dataset_path, table_name=name_of_table ) "
   ]
  },
  {
   "cell_type": "markdown",
   "metadata": {},
   "source": [
    "# Query Database"
   ]
  },
  {
   "cell_type": "code",
   "execution_count": 7,
   "metadata": {},
   "outputs": [],
   "source": [
    "def query_database(query, db_name='music_data.db'):\n",
    "    # Reopen the SQLite connection if it's closed\n",
    "    conn = sqlite3.connect(db_name)\n",
    "    \n",
    "    # Execute the query\n",
    "    result = conn.execute(query)\n",
    "    \n",
    "    # Fetch all rows from the result\n",
    "    rows = result.fetchall()\n",
    "    \n",
    "    # Close the connection\n",
    "    conn.close()\n",
    "    \n",
    "    return rows"
   ]
  },
  {
   "cell_type": "code",
   "execution_count": 8,
   "metadata": {},
   "outputs": [
    {
     "name": "stdout",
     "output_type": "stream",
     "text": [
      "(5028, 'Despacito Remix', 'pop', 'Luis Fonsi & Daddy Yankee', 2017, 23351415, '[Letra de \"Despacito (Remix)\" ft. Justin Bieber]\\n\\n[Intro: Justin Bieber]\\nComin\\' over in my direction\\nSo thankful for that, it\\'s such a blessin\\', yeah\\nTurn every situation into heaven, yeah\\nOh-oh, you are\\nMy sunrise on the darkest day\\nGot me feelin\\' some kind of way\\nMake me wanna savor every moment slowly, slowly\\nYou fit me tailor-made, love how you put it on\\nGot the only key, know how to turn it on\\nThe way you nibble on my ear, the only words I wanna hear\\nBaby, take it slow so we can last long\\n\\n[Verso 1: Luis Fonsi & Daddy Yankee]\\n¡Oh! Tú, tú eres el imán y yo soy el metal\\nMe voy acercando y voy armando el plan\\nSólo con pensarlo se acelera el pulso (Oh, yeah)\\nYa, ya me está gustando más de lo normal\\nTodos mis sentidos van pidiendo más\\nEsto hay que tomarlo sin ningún apuro\\n[Coro: Justin Bieber & Luis Fonsi, Daddy Yankee]\\nDespacito\\nQuiero respirar tu cuello despacito\\nDeja que te diga cosas al oído\\nPara que te acuerdes si no estás conmigo\\nDespacito\\nQuiero desnudarte a besos despacito\\nFirmo en las paredes de tu laberinto\\nY hacer de tu cuerpo todo un manuscrito\\n(Sube, sube, sube\\nSube, sube)\\n\\n[Post-Coro: Luis Fonsi & Daddy Yankee]\\nQuiero ver bailar tu pelo, quiero ser tu ritmo (Woah, woah)\\nQue le enseñes a mi boca (Woah, woah)\\nTus lugares favoritos (Favorito, favorito, baby)\\nDéjame sobrepasar tus zonas de peligro (Woah, woah)\\nHasta provocar tus gritos (Woah, woah)\\nY que olvides tu apellido\\n\\n[Verso 2: Daddy Yankee]\\nSi te pido un beso, ven, dámelo, yo sé que estás pensándolo\\nLlevo tiempo intentándolo, mami, esto es dando y dándolo\\nSabes que tu corazón conmigo te hace bom, bom\\nSabes que esa beba está buscando de mi bom, bom\\nVen, prueba de mi boca para ver cómo te sabe\\nQuiero, quiero, quiero ver cuánto amor a ti te cabe\\nYo no tengo prisa, yo me quiero dar el viaje\\nEmpecemos lento, después salvaje\\n[Pre-Coro: Daddy Yankee & Justin Bieber, Daddy Yankee]\\nPasito a pasito, suave suavecito\\nNos vamos pegando, poquito a poquito\\nCuando tú me besas con esa destreza\\nVeo que eres malicia con delicadeza\\nPasito a pasito, suave suavecito\\nNos vamos pegando, poquito a poquito\\nY es que esa belleza es un rompecabezas\\nPero pa\\' montarlo aquí tengo la pieza\\n¡Oye!\\n\\n[Coro: Justin Bieber & Luis Fonsi, Daddy Yankee]\\nDespacito\\nQuiero respirar tu cuello despacito\\nDeja que te diga cosas al oído\\nPara que te acuerdes si no estás conmigo\\nDespacito\\nQuiero desnudarte a besos despacito\\nFirmo en las paredes de tu laberinto\\nY hacer de tu cuerpo todo un manuscrito\\n(Sube, sube, sube\\nSube, sube)\\n\\n[Post-Coro: Luis Fonsi & Daddy Yankee]\\nQuiero ver bailar tu pelo, quiero ser tu ritmo (Woah, woah)\\nQue le enseñes a mi boca (Woah, woah)\\nTus lugares favoritos (Favorito, favorito, baby)\\nDéjame sobrepasar tus zonas de peligro (Woah, woah)\\nHasta provocar tus gritos (Woah, woah)\\nY que olvides tu apellido\\n[Puente: Luis Fonsi]\\nDespacito\\nThis is how we do it down in Puerto Rico\\nI just wanna hear you screaming, \"¡Ay, Bendito!\"\\nI can move forever cuando esté contigo\\n¡Báilalo!\\n\\n[Outro: Daddy Yankee, Luis Fonsi & Justin Bieber]\\nPasito a pasito, suave suavecito\\nNos vamos pegando, poquito a poquito\\nQue le enseñes a mi boca\\nTus lugares favoritos\\n(Favorito, favorito, baby)\\nPasito a pasito, suave suavecito\\nNos vamos pegando, poquito a poquito\\nHasta provocar tus gritos (Fonsi)\\nY que olvides tu apellido (D.Y.)\\nDespacito', 'sadness')\n",
      "(13315, 'WAP', 'rap', 'Cardi B', 2020, 16003444, '[Intro: Cardi B, Al \"T\" McLaran & Megan Thee Stallion]\\nWhores in this house\\nThere\\'s some whores in this house\\nThere\\'s some whores in this house\\nThere\\'s some\\u2005whores\\u2005in this house\\u2005(Hol\\' up)\\nI said certified freak, seven\\u2005days a week\\nWet-ass pussy, make that pullout game weak, woo (Ah)\\n\\n[Chorus: Cardi B]\\nYeah, yeah, yeah, yeah\\nYeah, you fuckin\\' with some wet-ass pussy\\nBring a bucket and a mop for this wet-ass pussy\\nGive me everything you got for this wet-ass pussy\\n\\n[Verse 1: Cardi B & Megan Thee Stallion]\\nBeat it up, nigga, catch a charge\\nExtra large and extra hard\\nPut this pussy right in your face\\nSwipe your nose like a credit card\\nHop on top, I wanna ride\\nI do a kegel while it\\'s inside\\nSpit in my mouth, look in my eyes\\nThis pussy is wet, come take a dive\\nTie me up like I\\'m surprised\\nLet\\'s roleplay, I\\'ll wear a disguise\\nI want you to park that big Mack truck right in this little garage\\nMake it cream, make me scream\\nOut in public, make a scene\\nI don\\'t cook, I don\\'t clean\\nBut let me tell you how I got this ring (Ayy, ayy)\\n[Verse 2: Megan Thee Stallion]\\nGobble me, swallow me, drip down the side of me (Yeah)\\nQuick, jump out \\'fore you let it get inside of me (Yeah)\\nI tell him where to put it, never tell him where I\\'m \\'bout to be (Huh)\\nI\\'ll run down on him \\'fore I have a nigga runnin\\' me (Pow, pow, pow)\\nTalk your shit, bite your lip (Yeah)\\nAsk for a car while you ride that dick (While you ride that dick)\\nYou really ain\\'t never gotta fuck him for a thang (Yeah)\\nHe already made his mind up \\'fore he came (Ayy, ah)\\nNow get your boots and your coat for this wet-ass pussy (Ah, ah, ah)\\nHe bought a phone just for pictures of this wet-ass pussy (Click, click, click)\\nPaid my tuition just to kiss me on this wet-ass pussy (Mwah, mwah, mwah)\\nNow make it rain if you wanna see some wet-ass pussy (Yeah, yeah)\\n\\n[Verse 3: Cardi B & Megan Thee Stallion]\\nLook, I need a hard hitter, need a deep stroker\\nNeed a Henny drinker, need a weed smoker\\nNot a garter snake, I need a king cobra\\nWith a hook in it, hope it lean over\\nHe got some money, then that\\'s where I\\'m headed\\nPussy A1 just like his credit\\nHe got a beard, well, I\\'m tryna wet it\\nI let him taste it, now he diabetic\\nI don\\'t wanna spit, I wanna gulp\\nI wanna gag, I wanna choke\\nI want you to touch that lil\\' dangly thing that swing in the back of my throat\\nMy head game is fire, punani Dasani\\nIt\\'s goin\\' in dry and it\\'s comin\\' out soggy\\nI ride on that thing like the cops is behind me (Yeah, ah)\\nI spit on his mic and now he tryna sign me, woo\\n[Verse 4: Megan Thee Stallion]\\nYour honor, I\\'m a freak bitch, handcuffs, leashes\\nSwitch my wig, make him feel like he cheatin\\'\\nPut him on his knees, give him somethin\\' to believe in\\nNever lost a fight, but I\\'m lookin\\' for a beatin\\' (Ah)\\nIn the food chain, I\\'m the one that eat ya\\nIf he ate my ass, he\\'s a bottom-feeder\\nBig D stand for big demeanor\\nI could make ya bust before I ever meet ya\\nIf it don\\'t hang, then he can\\'t bang\\nYou can\\'t hurt my feelings, but I like pain\\nIf he fuck me and ask \"Whose is it?\"\\nWhen I ride the dick, I\\'ma spell my name, ah\\n\\n[Chorus: Cardi B]\\nYeah, yeah, yeah\\nYeah, you fuckin\\' with some wet-ass pussy\\nBring a bucket and a mop for this wet-ass pussy\\nGive me everything you got for this wet-ass pussy\\nNow from the top, make it drop, that\\'s some wet-ass pussy\\nNow get a bucket and a mop, that\\'s some wet-ass pussy\\nI\\'m talkin\\' wap, wap, wap, that\\'s some wet-ass pussy\\nMacaroni in a pot, that\\'s some wet-ass pussy, huh\\n\\n[Outro: Al \"T\" McLaran]\\nThere\\'s some whores in this house\\nThere\\'s some whores in this house\\nThere\\'s some whores in this house\\nThere\\'s some whores in this house\\nThere\\'s some whores in this house\\nThere\\'s some whores in this house\\nThere\\'s some whores in this house\\nThere\\'s some whores in this house\\nThere\\'s some whores in this house\\nThere\\'s some whores in this house', 'surprise')\n",
      "(4107, 'Shape of You', 'pop', 'Ed Sheeran', 2017, 14569727, \"[Verse 1]\\nThe club isn't the best place to find a lover\\nSo the bar is where I go\\nMe and my friends at the table doing shots\\nDrinking fast and then we talk slow\\nAnd you come over and start up a conversation with just me\\nAnd trust me I'll give it a chance now\\nTake my hand, stop, put Van the Man on the jukebox\\nAnd then we start to dance, and now I'm singing like\\n\\n[Pre-Chorus]\\nGirl, you know I want your love\\nYour love was handmade for somebody like me\\nCome on now, follow my lead\\nI may be crazy, don't mind me\\nSay, boy, let's not talk too much\\nGrab on my waist and put that body on me\\nCome on now, follow my lead\\nCome, come on now, follow my lead\\n\\n[Chorus]\\nI'm in love with the shape of you\\nWe push and pull like a magnet do\\nAlthough my heart is falling too\\nI'm in love with your body\\nAnd last night you were in my room\\nAnd now my bed sheets smell like you\\nEvery day discovering something brand new\\nI'm in love with your body\\n[Post-Chorus]\\nOh, I, oh, I, oh, I, oh, I\\nI'm in love with your body\\nOh, I, oh, I, oh, I, oh, I\\nI'm in love with your body\\nOh, I, oh, I, oh, I, oh, I\\nI'm in love with your body\\nEvery day discovering something brand new\\nI'm in love with the shape of you\\n\\n[Verse 2]\\nOne week in we let the story begin\\nWe're going out on our first date\\nYou and me are thrifty, so go all you can eat\\nFill up your bag and I fill up a plate\\nWe talk for hours and hours about the sweet and the sour\\nAnd how your family is doing okay\\nLeave and get in a taxi, then kiss in the backseat\\nTell the driver make the radio play, and I'm singing like\\n\\n[Pre-Chorus]\\nGirl, you know I want your love\\nYour love was handmade for somebody like me\\nCome on now, follow my lead\\nI may be crazy, don't mind me\\nSay, boy, let's not talk too much\\nGrab on my waist and put that body on me\\nCome on now, follow my lead\\nCome, come on now, follow my lead\\n[Chorus]\\nI'm in love with the shape of you\\nWe push and pull like a magnet do\\nAlthough my heart is falling too\\nI'm in love with your body\\nAnd last night you were in my room\\nAnd now my bed sheets smell like you\\nEvery day discovering something brand new\\nI'm in love with your body\\n\\n[Post-Chorus]\\nOh, I, oh, I, oh, I, oh, I\\nI'm in love with your body\\nOh, I, oh, I, oh, I, oh, I\\nI'm in love with your body\\nOh, I, oh, I, oh, I, oh, I\\nI'm in love with your body\\nEvery day discovering something brand new\\nI'm in love with the shape of you\\n\\n[Bridge]\\nCome on, be my baby, come on\\nCome on, be my baby, come on\\nCome on, be my baby, come on\\nCome on, be my baby, come on\\nCome on, be my baby, come on\\nCome on, be my baby, come on\\nCome on, be my baby, come on\\nCome on, be my baby, come on\\n[Chorus]\\nI'm in love with the shape of you\\nWe push and pull like a magnet do\\nAlthough my heart is falling too\\nI'm in love with your body\\nLast night you were in my room\\nAnd now my bed sheets smell like you\\nEvery day discovering something brand new\\nI'm in love with your body\\n\\n[Outro]\\nCome on, be my baby, come on\\nCome on, be my baby, come on\\nI'm in love with your body\\nCome on, be my baby, come on\\nCome on, be my baby, come on\\nI'm in love with your body\\nCome on, be my baby, come on\\nCome on, be my baby, come on\\nI'm in love with your body\\nEvery day discovering something brand new\\nI'm in love with the shape of you\", 'surprise')\n",
      "(4969, 'HUMBLE.', 'rap', 'Kendrick Lamar', 2017, 11181199, \"[Intro]\\nNobody pray for me\\nIt been that day for me\\nWay (Yeah, yeah)\\n\\n[Verse 1]\\nAyy, I remember syrup sandwiches and crime allowances\\nFinesse a nigga with some counterfeits, but now I'm countin’ this\\nParmesan where my accountant lives, in fact, I'm downin' this\\nD’USSÉ with my boo bae, tastes like Kool-Aid for the analysts\\nGirl, I can buy your ass the world with my paystub\\nOoh, that pussy good, won't you sit it on my taste bloods?\\nI get way too petty once you let me do the extras\\nPull up on your block, then break it down: we playin' Tetris\\nAM to the PM, PM to the AM, funk\\nPiss out your per diem, you just gotta hate 'em, funk\\nIf I quit your BM, I still ride Mercedes, funk\\nIf I quit this season, I still be the greatest, funk\\nMy left stroke just went viral\\nRight stroke put lil' baby in a spiral\\nSoprano C, we like to keep it on a high note\\nIt's levels to it, you and I know\\n[Chorus]\\nBitch, be humble (Hol' up, bitch)\\nSit down (Hol' up, lil’, hol’ up, lil' bitch)\\nBe humble (Hol’ up, bitch)\\nSit down (Hol' up, sit down, lil', sit down, lil' bitch)\\nBe humble (Hol’ up, hol' up)\\nBitch, sit down (Hol' up, hol' up, lil' bitch)\\nBe humble (Lil' bitch, hol' up, bitch)\\nSit down (Hol' up, hol' up, hol' up, hol' up)\\nBe humble (Hol' up, hol' up)\\nSit down (Hol' up, hol' up, lil', hol' up, lil' bitch)\\nBe humble (Hol' up, bitch)\\nSit down (Hol' up, sit down, lil', sit down, lil' bitch)\\nBe humble (Hol' up, hol' up)\\nBitch, sit down (Hol' up, hol' up, lil' bitch)\\nBe humble (Lil' bitch, hol' up, bitch)\\nSit down (Hol' up, hol' up, hol' up, hol' up)\\n\\n[Verse 2]\\nWho that nigga thinkin' that he frontin' on Man-Man? (Man-Man)\\nGet the fuck off my stage, I'm the Sandman (Sandman)\\nGet the fuck off my dick, that ain't right\\nI make a play fucking up your whole life\\nI'm so fuckin' sick and tired of the Photoshop\\nShow me somethin' natural like afro on Richard Pryor\\nShow me somethin' natural like ass with some stretch marks\\nStill I take you down right on your mama couch in Polo socks\\nAyy, this shit way too crazy, ayy, you do not amaze me, ayy\\nI blew cool from AC, ayy, Obama just paged me, ayy\\nI don't fabricate it, ayy, most of y'all be fakin', ayy\\nI stay modest 'bout it, ayy, she elaborate it, ayy\\nThis that Grey Poupon, that Evian, that TED Talk, ayy\\nWatch my soul speak, you let the meds talk, ayy\\nIf I kill a nigga, it won't be the alcohol, ayy\\nI'm the realest nigga after all\\n[Chorus]\\nBitch, be humble (Hol' up, bitch)\\nSit down (Hol' up, lil', hol' up, lil' bitch)\\nBe humble (Hol' up, bitch)\\nSit down (Hol' up, sit down, lil', sit down, lil' bitch)\\nBe humble (Hol' up, hol' up)\\nBitch, sit down (Hol' up, hol' up, lil' bitch)\\nBe humble (Lil' bitch, hol' up, bitch)\\nSit down (Hol' up, hol' up, hol' up, hol' up)\\nBe humble (Hol' up, hol' up)\\nSit down (Hol' up, hol' up, lil', hol' up, lil' bitch)\\nBe humble (Hol' up, bitch)\\nSit down (Hol' up, sit down, lil', sit down, lil' bitch)\\nBe humble (Hol' up, hol' up)\\nBitch, sit down (Hol' up, hol' up, lil' bitch)\\nBe humble (Lil' bitch, hol' up, bitch)\\nSit down (Hol' up, hol' up, hol' up, hol' up)\", 'anger')\n",
      "(186, 'The Hills', 'rb', 'The Weeknd', 2015, 9291775, '[Intro]\\nYeah\\nYeah\\nYeah\\n\\n[Verse 1]\\nYour man on the road, he doin\\' promo\\nYou said, \"Keep our business on the low-low\"\\nI\\'m just tryna get you out the friend zone\\n\\'Cause you look even better than the photos\\nI can\\'t find your house, send me the info\\nDrivin\\' through the gated residential\\nFound out I was comin\\', sent your friends home\\nKeep on tryna hide it, but your friends know\\n\\n[Chorus]\\nI only call you when it\\'s half-past five\\nThe only time that I\\'ll be by your side\\nI only love it when you touch me, not feel me\\nWhen I\\'m fucked up, that\\'s the real me\\nWhen I\\'m fucked up, that\\'s the real me, yeah\\nI only call you when it\\'s half-past five\\nThe only time I\\'d ever call you mine\\nI only love it when you touch me, not feel me\\nWhen I\\'m fucked up, that\\'s the real me\\nWhen I\\'m fucked up, that\\'s the real me, babe\\n[Verse 2]\\nI\\'ma let you know and keep it simple\\nTryna keep it up don\\'t seem so simple\\nI just fucked two bitches \\'fore I saw you\\nAnd you gon\\' have to do it at my tempo\\nAlways tryna send me off to rehab\\nDrugs started feelin\\' like it\\'s decaf\\nI\\'m just tryna live life for the moment\\nAnd all these motherfuckers want a relapse\\n\\n[Chorus]\\nI only call you when it\\'s half-past five\\nThe only time that I\\'ll be by your side\\nI only love it when you touch me, not feel me\\nWhen I\\'m fucked up, that\\'s the real me\\nWhen I\\'m fucked up, that\\'s the real me, yeah\\nI only call you when it\\'s half-past five\\nThe only time I\\'d ever call you mine\\nI only love it when you touch me, not feel me\\nWhen I\\'m fucked up, that\\'s the real me\\nWhen I\\'m fucked up, that\\'s the real me, babe\\n\\n[Bridge]\\nHills have eyes, the hills have eyes\\nWho are you to judge? Who are you to judge?\\nHide your lies, girl, hide your lies (Hide your lies, oh, baby)\\nOnly you to trust, only you\\n[Chorus]\\nI only call you when it\\'s half-past five\\nThe only time that I\\'ll be by your side\\nI only love it when you touch me, not feel me\\nWhen I\\'m fucked up, that\\'s the real me\\nWhen I\\'m fucked up, that\\'s the real me, yeah\\nI only call you when it\\'s half-past five\\nThe only time I\\'d ever call you mine\\nI only love it when you touch me, not feel me\\nWhen I\\'m fucked up, that\\'s the real me\\nWhen I\\'m fucked up, that\\'s the real me, babe\\n\\n[Outro]\\nEwedihalehu\\nYene konjo, ewedihalehu\\nYene fikir, fikir, fikir, fikir\\nYene fikir, fikir, fikir, fikir\\nEwedihalehu\\nYene konjo, ewedihalehu...', 'neutral')\n",
      "(3080, 'Bad and Boujee', 'rap', 'Migos', 2016, 9168421, \"[Intro: Offset & Future]\\nYou know, young rich niggas\\nYou know somethin', we ain't really never had no old money\\nWe got a whole lotta new money though, hah\\n(If Young Metro don't trust you, I'm gon' shoot you)\\nHey\\n\\n[Chorus: Offset]\\nRaindrop (Drip), drop-top (Drop-top)\\nSmokin' on cookie in the hotbox (Cookie)\\nFuckin' on your bitch, she a thot, thot (Thot)\\nCookin' up dope in the crockpot (Pot)\\nWe came from nothin' to somethin', nigga (Hey)\\nI don't trust nobody, grip the trigger (Nobody)\\nCall up the gang and they come and get ya (Gang)\\nCry me a river, give you a tissue (Hey)\\nMy bitch is bad and bougie (Bad)\\nCookin' up dope with a Uzi (Blaow)\\nMy niggas is savage, ruthless (Savage)\\nWe got 30s and hundred-rounds too (Grrah)\\nMy bitch is bad and bougie (Bad)\\nCookin' up dope with a Uzi (Dope)\\nMy niggas is savage, ruthless (Hey)\\nWe got 30s and hundred-rounds too (Glah)\\n[Verse 1: Offset]\\nOffset, woo, woo, woo, woo, woo\\nRackaids on rackaids (Racks), got back-ends on back-ends\\nI'm ridin' around in a coupe (Coupe)\\nI take your bih' right from you (You)\\nBitch, I'm a dog, roof (Grr)\\nBeat the ho walls loose (Hey)\\nHop in the frog, whoo (Skrrt)\\nI tell that bih' to come comfort me (Comfort me)\\nI swear these niggas is under me (Hey)\\nThey hate and the devil keep jumpin' me (Jumpin' me)\\nBankrolls on me keep me company (Cash)\\nAyy, we do the most (Most)\\nYeah, pull up in Ghosts (Woo)\\nYeah, my diamond's a choker (Glah)\\nHoldin' the fire with no holster (Blaow)\\nRick the Ruler, diamonds cooler (Cooler)\\nThis a Rollie, not a Muller (Hey)\\nDabbin' on 'em like the usual (Dab)\\nMagic with the brick, do voodoo (Magic)\\nCourtside with a bad bitch (Bitch)\\nThen I send the bitch through Uber (Go)\\nI'm young and rich and plus I'm bougie (Hey)\\nI'm not stupid so I keep the Uzi (Rrah)\\nRackaids on rackaids, got back-ends on back-ends\\nSo my money makin' my back ache (Aagh)\\nYou niggas got a low Act rate (Act)\\nWe from the Nawf, yeah, Dat Way (Nawf)\\nFat Cookie blunt in the ashtray (Cookie)\\nTwo bitches, just national smash day (Smash)\\nHop in the Lamb', have a drag race (Skrrt)\\nI let them birds take a bath, bae (Brr)\\n[Chorus: Offset]\\nRaindrop (Drip), drop-top (Drop-top)\\nSmokin' on cookie in the hotbox (Cookie)\\nFuckin' on your bitch, she a thot, thot (Thot)\\nCookin' up dope in the crockpot (Pot)\\nWe came from nothin' to somethin', nigga (Hey)\\nI don't trust nobody, grip the trigger (Nobody)\\nCall up the gang and they come and get ya (Gang)\\nCry me a river, give you a tissue (Hey)\\nMy bitch is bad and bougie (Bad)\\nCookin' up dope with a Uzi (Blaow)\\nMy niggas is savage, ruthless (Savage)\\nWe got 30s and hundred-rounds too (Grrah)\\nMy bitch is bad and bougie (Bad)\\nCookin' up dope with a Uzi (Dope)\\nMy niggas is savage, ruthless (Hey)\\nWe got 30s and hundred-rounds too (Glah)\\n\\n[Verse 2: Quavo]\\nPour a four, I'm droppin' muddy, outer space, Kid Cudi (Drank)\\nIntroduce me to your bitch as wifey and we know she sluttin' (Bitch)\\nBroke a brick down, Nutty Buddy, now that nigga duckin' (Phew)\\nDon't move too fast, I might shoot ya (Huh?)\\nDraco bad and bougie (Draco)\\nI'm always hangin' with shooters (Brrah)\\nMight be posted somewhere secluded (Private)\\nStill be playin' with pots and pans, call me Quavo Ratatouille (Cook it up)\\nRun with that sack, call me Boobie (Run with it)\\nWhen I'm on stage, show me boobies (Ayy)\\nIce on my neck, I'm the coolest (Ice)\\nHop out the suicide with the Uzi (Pew-pew-pew)\\nI pull up, I pull up, I pull up\\nI hop out with all of the drugs and the good luck (Skrrt)\\nI'm cookin', I'm cookin', I'm whippin'\\nI'm whippin' until it rock up, let it lock up (Lock up)\\nI gave her ten racks\\nI told her go shoppin' and spend it all at the pop up (Ten)\\nThese bitches, they fuck and suck dick\\nAnd they bustin' for Instagram, get your clout up\\nUh, yeah, that way (Yeah)\\nFloat on the track like a Segway (Go)\\nYeah, that way (Dat way)\\nI used to trap by the Subway (Trappin', trappin')\\nYeah, that way (Go)\\nYoung nigga trap with the AK (Rrah, uh)\\nYeah, that way (Yeah)\\nBig dyke ho, get the door, Macy Gray (Hey)\\n[Chorus: Offset & Lil Uzi Vert]\\nRaindrop (Drip), drop-top (Drop-top)\\nSmokin' on cookie in the hotbox (Cookie)\\nFuckin' on your bitch, she a thot, thot (Thot)\\nCookin' up dope in the crockpot (Pot)\\nWe came from nothin' to somethin', nigga (Hey)\\nI don't trust nobody, grip the trigger (Nobody)\\nCall up the gang and they come and get ya (Gang)\\nCry me a river, give you a tissue (Hey)\\nMy bitch is bad and bougie (Bad)\\nCookin' up dope with a Uzi (Blaow)\\nMy niggas is savage, ruthless (Savage)\\nWe got 30s and hundred-rounds too (Grrah)\\nMy bitch is bad and bougie (Bad)\\nCookin' up dope with a Uzi (Dope, huh?)\\nMy niggas is savage, ruthless (Hey, what?)\\nWe got 30s and hundred-rounds too (Glah, Lil Uzi)\\n\\n[Verse 3: Lil Uzi Vert]\\nYeah, yeah, yeah, yeah, yeah, yeah (Yeah)\\nMy bitch, she bad to the bone (She what?)\\nAyy, wait, these niggas watchin'\\nI swear to God they be my clones (They watchin')\\nYeah, hey, huh\\nSwitchin' my hoes like my flows (What?)\\nSwitchin' my flows like my clothes (Like what?)\\nKeep on shootin' that gun, don't reload (Damn)\\nOoh, ooh, now she want fuck with my crew (My crew)\\n'Cause the money come all out the roof (Damn, damn)\\nDrive the 'Rari, that bitch got no roof (Skrrt)\\nWait, what kind of 'Rari? (Wait) 458 (Damn)\\nAll of these niggas, they hate (They hate)\\nTry to hide, shoot through the gate (Wow)\\nLook, go to strip club, make it rain, yeah\\nSo much money they use rakes (They use rakes)\\nCount a hundred thousand in your face (In your face)\\nYeah, then put 300 right in the safe (Yeah)\\nMet her today, yeah (Ooh)\\nShe talk to me like she knew me, yeah (Ooh)\\nGo to sleep in a jacuzzi, yeah (Yeah)\\nWakin' up right to a two-piece, yeah\\nCountin' that paper like loose-leaf, yeah\\nGettin' that chicken with blue cheese, yeah\\nBoy, you so fake, like my collar, you snakin'\\nI swear to God that be that Gucci (Ayy)\\nAnd you know we winnin' (Winnin')\\nYeah, we is not losin'\\nTry to play your song, it ain't move me (What?)\\nSaw your girl once, now she choosin', yeah (Hey!)\\n\\n[Chorus: Offset & Lil Uzi Vert]\\nRaindrop (Drip), drop-top (Drop-top)\\nSmokin' on cookie in the hotbox (Cookie)\\nFuckin' on your bitch, she a thot, thot (Thot, yeah)\\nCookin' up dope in the crockpot (Pot)\\nWe came from nothin' to somethin', nigga (Hey)\\nI don't trust nobody, grip the trigger (Nobody, yeah)\\nCall up the gang and they come and get ya (Gang)\\nCry me a river, give you a tissue (Hey, Lil Uzi)\\nMy bitch is bad and bougie (Bad, she bad)\\nCookin' up dope with a Uzi (Blaow, cookin' up, cookin' up)\\nMy niggas is savage, ruthless (Savage, they savage)\\nWe got 30s and hundred-rounds too (Grrah)\\nMy bitch is bad and bougie (Bad)\\nCookin' up dope with a Uzi (Dope, what?)\\nMy niggas is savage, ruthless (Hey, yeah)\\nWe got 30s and hundred-rounds too (Lil Uzi)\", 'anger')\n",
      "(6571, 'Gods Plan', 'rap', 'Drake', 2018, 9107059, '[Intro]\\nAnd they wishin\\' and wishin\\'\\nAnd wishin\\' and wishin\\', they wishin\\' on me\\nYeah\\n\\n[Verse 1]\\nI been movin\\' calm, don\\'t start no trouble with me\\nTryna keep it peaceful is a struggle for me\\nDon\\'t pull up at 6 AM to cuddle with me\\nYou know how I like it when you lovin\\' on me\\nI don\\'t wanna die for them to miss me\\nYes, I see the things that they wishin\\' on me\\nHope I got some brothers that outlive me\\nThey gon\\' tell the story, shit was different with me\\n\\n[Chorus]\\nGod\\'s plan, God\\'s plan\\nI hold back, sometimes I won\\'t, yeah\\nI feel good, sometimes I don\\'t (Ayy, don\\'t)\\nI finessed down Weston Road (Ayy, \\'nessed)\\nMight go down a G.O.D. (Yeah, wait)\\nI go hard on Southside G (Yeah, wait)\\nI make sure that north-side eat\\nAnd still\\n[Post-Chorus]\\nBad things\\nIt\\'s a lot of bad things that they wishin\\' and wishin\\'\\nAnd wishin\\' and wishin\\', they wishin\\' on me\\nBad things\\nIt\\'s a lot of bad things that they wishin\\' and wishin\\'\\nAnd wishin\\' and wishin\\', they wishin\\' on me\\nYeah, ayy, ayy\\n\\n[Verse 2]\\nShe say, \"Do you love me?\" I tell her, \"Only partly\\nI only love my bed and my mama, I\\'m sorry\"\\nFifty Dub, I even got it tatted on me\\nEighty-one, they\\'ll bring the crashers to the party\\nAnd you know me\\nTurn the O2 into the O3, dog\\nWithout 40, Oli, there\\'d be no me\\n\\'Magine if I never met the broskies\\n\\n[Chorus]\\nGod\\'s plan, God\\'s plan\\nI can\\'t do this on my own, ayy (No, ayy)\\nSomeone watchin\\' this shit close (Yep, close)\\nI\\'ve been me since Scarlett Road, ayy (Road, ayy)\\nMight go down as G.O.D. (Yeah, wait, yeah)\\nI go hard on Southside G (Ayy, wait, ayy)\\nI make sure that north-side eat, yeah\\nAnd still\\n[Post-Chorus]\\nBad things\\nIt\\'s a lot of bad things that they wishin\\' and wishin\\'\\nAnd wishin\\' and wishin\\', they wishin\\' on me\\nYeah, yeah\\nBad things\\nIt\\'s a lot of bad things that they wishin\\' and wishin\\'\\nAnd wishin\\' and wishin\\', they wishin\\' on me\\nYeah', 'sadness')\n",
      "(8900, 'SICKO MODE', 'rap', 'Travis Scott', 2018, 9078511, '[Part I]\\n\\n[Intro: Drake]\\nAstro, yeah\\nSun is down, freezin\\' cold\\nThat\\'s how we already know, winter\\'s here\\nMy dawg would probably do it for a Louis belt\\nThat\\'s just all he know, he don\\'t know nothin\\' else\\nI tried to show \\'em, yeah\\nI tried to show \\'em, yeah, yeah\\nYeah, yeah, yeah\\nGoin\\' on you with the pick and roll\\nYoung La Flame, he in sicko mode\\n\\n[Part II]\\n\\n[Verse 1: Travis Scott & The Notorious B.I.G.]\\n(Woo) Made this here with all the ice on in the booth\\nAt the gate outside, when they pull up, they get me loose\\nYeah, Jump Out boys, that\\'s Nike boys, hoppin\\' out coupes\\nThis shit way too big, when we pull up, give me the loot (Gimme the loot!)\\nWas off the Remy, had a Papoose\\nHad to hit my old town to duck the news\\nTwo-four hour lockdown, we made no moves\\nNow it\\'s 4 AM and I\\'m back up poppin\\' with the crew\\nI just landed in, Chase B mixes pop like Jamba Juice\\nDifferent colored chains, think my jeweler really sellin\\' fruits\\nAnd they chokin\\', man, know the crackers wish it was a noose\\n[Bridge: Big Hawk & Swae Lee]\\nSome-Some-Some-Someone said\\nTo win the retreat, we all in too deep\\nPlay-Play-Playin\\' for keeps, don\\'t play us for weak (Someone said)\\nTo win the retreat, we all in too deep\\nPlay-Play-Playin\\' for keeps, don\\'t play us for weak\\n\\n[Verse 2: Travis Scott & Uncle Luke]\\nYeah, this shit way too formal, y\\'all know I don\\'t follow suit\\nStacey Dash, most of these girls ain\\'t got a clue\\nAll of these hoes I made off records I produced\\nI might take all my exes and put \\'em all in a group\\nHit my eses, I need the bootch\\n\\'Bout to turn this function to Bonnaroo\\nTold her, \"Hop in, you comin\\' too\"\\nIn the 305, bitches treat me like I\\'m Uncle Luke\\n(Don\\'t stop, pop that pussy!)\\nHad to slop the top off, it\\'s just a roof, uh\\nShe said, \"Where we goin\\'?\" I said, \"The moon\"\\nWe ain\\'t even make it to the room\\nShe thought it was the ocean, it\\'s just the pool\\nNow I got her open, it\\'s just the Goose\\nWho put this shit together? I\\'m the glue\\n\\n[Bridge: Travis Scott, Swae Lee & Big Hawk]\\nSomeone said\\nShorty FaceTimed me out the blue\\nSomeone said\\nPlay-Playin\\' for keeps\\nSomeone said, mother****, someone said\\nDon\\'t play us for weak\\n[Part III]\\n\\n[Intro: Travis Scott, Drake & Lil Juice]\\nYeah!\\nAstro, yeah, yeah\\n(Tay Keith, fuck these niggas up!)\\nAyy, ayy\\n\\n[Chorus: Drake & Travis Scott]\\nShe\\'s in love with who I am\\nBack in high school, I used to bus it to the dance (Yeah)\\nNow I hit the FBO with duffels in my hands\\nI did half a Xan, thirteen hours \\'til I land\\nHad me out like a light, ayy, yeah\\nLike a light, ayy, yeah\\n\\n[Verse 3: Drake & Travis Scott]\\nLike a light, ayy, slept through the flight, ayy\\nKnocked for the night, ayy\\n767, man, this shit got double bedroom, man\\nI still got scores to settle, man\\nI crept down the block (Down the block)\\nMade a right (Yeah, right)\\nCut the lights (Yeah, what?), paid the price (Yeah)\\nNiggas think it\\'s sweet (Nah, never), it\\'s on sight (Yeah, what?)\\nNothin\\' nice (Yeah), baguettes in my ice (Aw, man)\\nJesus Christ (Yeah), checks over stripes (Yeah)\\nThat\\'s what I like (Yeah), that\\'s what we like (Yeah)\\nLost my respect, you not a threat\\nWhen I shoot my shot, that shit wetty like I\\'m Sheck (Bitch)\\nSee the shots that I took (Ayy), wet like I\\'m Book (Ayy)\\nWet like I\\'m Lizzie\\nI be spinnin\\' Valley, circle blocks \\'til I\\'m dizzy (Yeah, what?)\\nLike where is he? (Yeah, what?)\\nNo one seen him (Yeah, yeah)\\nI\\'m tryna clean \\'em (Yeah)\\n[Chorus: Drake & Travis Scott]\\nShe\\'s in love with who I am\\nBack in high school, I used to bus it to the dance\\nNow I hit the FBO with duffels in my hands (Woo)\\nI did half a Xan, thirteen hours \\'til I land\\nHad me out like a light (Like a light)\\nLike a light (Like a light)\\nLike a light (Like a light)\\nLike a light\\n\\n[Verse 4: Travis Scott]\\nYeah, passed the dawgs a celly\\nSendin\\' texts, ain\\'t sendin\\' kites, yeah\\nHe said, \"Keep that on lock\"\\nI say, \"You know this shit, it\\'s stife,\" yeah\\nIt\\'s absolute, yeah (Yeah), I\\'m back, reboot (It\\'s lit)\\nLaFerrari to Jamba Juice, yeah (Skrrt, skrrt)\\nWe back on the road, they jumpin\\' off, no parachute, yeah\\nShorty in the back\\nShe said she workin\\' on her glutes, yeah (Oh my God)\\nAin\\'t by the book, yeah, this how it look, yeah\\n\\'Bout a check, yeah (Check), just check the foots, yeah\\nPass this to my daughter, I\\'ma show her what it took (Yeah)\\nBaby mama cover Forbes, got these other bitches shook\\nYeah', 'neutral')\n",
      "(9689, '\\u200bthank u next', 'pop', 'Ariana Grande', 2018, 9072131, '[Verse 1]\\nThought I\\'d end up with Sean\\nBut he wasn\\'t a match\\nWrote some songs about Ricky\\nNow I listen and laugh\\nEven almost got married\\nAnd for Pete, I\\'m so thankful\\nWish I could say, \"Thank you\" to Malcolm\\n\\'Cause he was an angel\\n\\n[Pre-Chorus]\\nOne taught me love\\nOne taught me patience\\nAnd one taught me pain\\nNow, I\\'m so amazing\\nSay I\\'ve loved and I\\'ve lost\\nBut that\\'s not what I see\\nSo, look what I got\\nLook what you taught me\\nAnd for that, I say\\n[Chorus]\\nThank you, next (Next)\\nThank you, next (Next)\\nThank you, next\\nI\\'m so fuckin\\' grateful for my ex\\nThank you, next (Next)\\nThank you, next (Next)\\nThank you, next (Next)\\nI\\'m so fuckin\\'—\\n\\n[Verse 2]\\nSpend more time with my friends\\nI ain\\'t worried \\'bout nothin\\'\\nPlus, I met someone else\\nWe havin\\' better discussions\\nI know they say I move on too fast\\nBut this one gon\\' last\\n\\'Cause her name is Ari\\nAnd I\\'m so good with that (So good with that)\\n\\n[Pre-Chorus]\\nShe taught me love (Love)\\nShe taught me patience (Patience)\\nHow she handles pain (Pain)\\nThat shit\\'s amazing (Yeah, she\\'s amazing)\\nI\\'ve loved and I\\'ve lost (Yeah, yeah)\\nBut that\\'s not what I see (Yeah, yeah)\\n\\'Cause look what I\\'ve found (Yeah, yeah, I\\'ve found)\\nAin\\'t no need for searching, and for that, I say\\n[Chorus]\\nThank you, next (Thank you, next)\\nThank you, next (Thank you, next)\\nThank you, next (Thank you)\\nI\\'m so fuckin\\' grateful for my ex\\nThank you, next (Thank you, next)\\nThank you, next (Said thank you, next)\\nThank you, next (Next)\\nI\\'m so fuckin\\' grateful for my ex\\n\\n[Post-Chorus]\\nThank you, next\\nThank you, next\\nThank you, next\\nI\\'m so fuckin\\'—\\n\\n[Bridge]\\nOne day I\\'ll walk down the aisle\\nHolding hands with my mama\\nI\\'ll be thanking my dad\\n\\'Cause she grew from the drama\\nOnly wanna do it once, real bad\\nGon\\' make that shit last\\nGod forbid something happens\\nLeast this song is a smash (Song is a smash)\\n[Pre-Chorus]\\nI\\'ve got so much love (Love)\\nGot so much patience (Patience)\\nAnd I\\'ve learned from the pain (Pain)\\nI turned out amazing (Turned out amazing)\\nSay I\\'ve loved and I\\'ve lost (Yeah, yeah)\\nBut that\\'s not what I see (Yeah, yeah)\\n\\'Cause look what I\\'ve found (Yeah, yeah)\\nAin\\'t no need for searching\\nAnd for that, I say\\n\\n[Chorus]\\nThank you, next (Thank you, next)\\nThank you, next (Thank you, next)\\nThank you, next\\nI\\'m so fuckin\\' grateful for my ex\\nThank you, next (Thank you, next)\\nThank you, next (Said thank you, next)\\nThank you, next (Next)\\nI\\'m so fuckin\\' grateful for my ex\\n\\n[Post-Chorus]\\nThank you, next\\nThank you, next\\nThank you, next\\nYeah, yee\\nThank you, next\\nThank you, next\\nThank you, next\\nYeah, yee', 'surprise')\n",
      "(6085, 'Mans Not Hot', 'rap', 'Big Shaq', 2017, 8690766, '[Intro]\\nYo\\nBig Shaq, the one and only\\nMan\\'s not hot, never hot\\nSkrrat (GottiOnEm), skidi-kat-kat\\nBoom\\n\\n[Verse 1]\\nTwo plus two is four\\nMinus one, that\\'s three, quick maths\\nEvery day, man\\'s on the block\\nSmoke trees (Ah)\\nSee your girl in the park\\nThat girl is a uckers\\nWhen the ting went quack-quack-quack\\nYou man were ducking (You man ducked)\\nHold tight, Asznee (My brudda)\\nHe\\'s got the pumpy (Big ting)\\nHold tight, my man (My guy)\\nHe\\'s got the frisbee (Few)\\nI trap, trap, trap on the phone\\nMovin\\' that cornflakes (Uh)\\nRice Krispies\\nHold tight, my girl Whitney (My G)\\nOn, on, on, on, on the road doin\\' 10 toes\\nLike my toes (Like my toes)\\nYou man thought I froze\\nI see a peng girl, then I pose (Chilin\\')\\nIf she ain\\'t on it, I ghost\\nHah, look at your nose (Check your nose, fam)\\nYou donut\\nNose long like garden hose\\n[Chorus]\\nI tell her man\\'s not hot\\nI tell her man\\'s not hot\\nThe girl told me, \"Take off your jacket\"\\nI said, \"Babes, man\\'s not hot\" (Never hot)\\nI tell her man\\'s not hot (Never hot)\\nI tell her man\\'s not hot (Never hot)\\nThe girl told me, \"Take off your jacket\"\\nI said, \"Babes, man\\'s not hot\" (Never hot)\\n\\n[Verse 2]\\nHop out the four-door with the .44\\nIt was one, two, three and four (Us man)\\nChillin\\' in the corridor (Yo)\\nYour dad is forty-four (Uh)\\nAnd he\\'s still callin\\' man for a draw (Look at him)\\nLet him know\\nWhen I see him\\nI\\'m gonna spin his jaw (Finished)\\nTake man\\'s Twix by force (Take it)\\nSend man\\'s shop by force (Send him)\\nYour girl knows I\\'ve got the sauce (Flexin\\')\\nNo ketchup (None)\\nJust sauce (Saucy)\\nRaw sauce (Ah)\\nYo, boom, ah\\n[Refrain]\\nThe ting goes skrrah (Ah)\\nPop, pop, ka-ka-ka (Ka-ka)\\nSkidi-ki-pop-pop (Pah)\\nAnd a pu-pu-brr-boom (Boom)\\nSki-ya (Ah)\\nDu-du-ku-ku-dun-dun (Dun)\\nPoom, poom\\nYou dun know\\n\\n[Chorus]\\nI tell her man\\'s not hot (Man\\'s not)\\nI tell her man\\'s not hot (Never hot)\\nThe girl told me, \"Take off your jacket\"\\nI said, \"Babes, man\\'s not hot\" (Never hot)\\nI tell her man\\'s not hot\\nI tell her man\\'s not hot (Never hot)\\nThe girl told me, \"Take off your jacket\"\\nI said, \"Babes, man\\'s not hot\"\\n\\n[Bridge]\\nMan can never be hot (Never hot)\\nPerspiration ting (Spray dat)\\nLynx Effect (Come on)\\nYou didn\\'t hear me, did you? (Nah)\\nUse roll-on (Use that)\\nOr spray (Shh)\\nBut either way, A-B-C-D (Alphabet ting)\\n[Refrain]\\nThe ting goes skrrah (Ah)\\nPop, pop, ka-ka-ka (Ka)\\nSkidi-ki-pop-pop (Pah)\\nAnd a pu-pu-brr-boom (Boom)\\nSki-ya (Ah)\\nDu-du-ku-ku-dun-dun (Dun)\\nPoom, poom\\nYou dun know\\n\\n[Outro]\\nBig Shaq\\nMan\\'s not hot\\nI tell her man\\'s not hot (Never hot)\\nForty degrees out, man\\'s not hot (Come on)\\nYo (Ah)\\nIn the sauna, man\\'s not hot (Never hot)\\nYeah, skidi-ka-pop-pop', 'surprise')\n"
     ]
    }
   ],
   "source": [
    "query = f\"SELECT * FROM {name_of_table} ORDER BY views DESC LIMIT 10;\"\n",
    "result = query_database(query)\n",
    "for row in result:\n",
    "    print(row)"
   ]
  },
  {
   "cell_type": "markdown",
   "metadata": {},
   "source": [
    "# Preprocessing"
   ]
  },
  {
   "cell_type": "code",
   "execution_count": 9,
   "metadata": {},
   "outputs": [
    {
     "name": "stderr",
     "output_type": "stream",
     "text": [
      "c:\\Users\\Moniba\\.conda\\envs\\best\\lib\\site-packages\\transformers\\pipelines\\text_classification.py:104: UserWarning: `return_all_scores` is now deprecated,  if want a similar functionality use `top_k=None` instead of `return_all_scores=True` or `top_k=1` instead of `return_all_scores=False`.\n",
      "  warnings.warn(\n"
     ]
    }
   ],
   "source": [
    "# model to find the emotion\n",
    "device = 0 if torch.cuda.is_available() else -1  # Use device 0 for GPU, -1 for CPU\n",
    "\n",
    "# Load the emotion classifier with GPU support if available\n",
    "emotion_classifier = pipeline(\n",
    "    \"text-classification\",\n",
    "    model=\"j-hartmann/emotion-english-distilroberta-base\",\n",
    "    return_all_scores=True,\n",
    "    device=device  # Specify the device here\n",
    ")"
   ]
  },
  {
   "cell_type": "code",
   "execution_count": 10,
   "metadata": {},
   "outputs": [
    {
     "name": "stderr",
     "output_type": "stream",
     "text": [
      "c:\\Users\\Moniba\\.conda\\envs\\best\\lib\\site-packages\\transformers\\models\\roberta\\modeling_roberta.py:370: UserWarning: 1Torch was not compiled with flash attention. (Triggered internally at C:\\cb\\pytorch_1000000000000\\work\\aten\\src\\ATen\\native\\transformers\\cuda\\sdp_utils.cpp:263.)\n",
      "  attn_output = torch.nn.functional.scaled_dot_product_attention(\n"
     ]
    },
    {
     "data": {
      "text/plain": [
       "'sadness'"
      ]
     },
     "execution_count": 10,
     "metadata": {},
     "output_type": "execute_result"
    }
   ],
   "source": [
    "def get_mood(text_input):\n",
    "\n",
    "    # Tokenize the input text first using the tokenizer\n",
    "    tokenizer = emotion_classifier.tokenizer  # Get the tokenizer from the pipeline\n",
    "    tokens = tokenizer.tokenize(text_input)\n",
    "    # Truncate the tokenized input to the model's maximum token limit (e.g., 512 tokens)\n",
    "    # Leave space for special tokens\n",
    "    truncated_tokens = tokens[:min(200, len(tokens))]\n",
    "    \n",
    "    truncated_text = tokenizer.convert_tokens_to_string(truncated_tokens)\n",
    "    moods = emotion_classifier(truncated_text)\n",
    "    if type(moods) == list and type(moods[0]) == list:\n",
    "        moods = moods[0]\n",
    "\n",
    "    # Sort moods by score (confidence)\n",
    "    moods_sorted = sorted(moods, key=lambda x: x['score'], reverse=True)\n",
    "    # Get the top mood with the highest confidence\n",
    "    mood = moods_sorted[0]['label']\n",
    "    return mood\n",
    "get_mood(\"I wanna cry\")\n"
   ]
  },
  {
   "cell_type": "markdown",
   "metadata": {},
   "source": [
    "## Add emotion columns"
   ]
  },
  {
   "cell_type": "code",
   "execution_count": 11,
   "metadata": {},
   "outputs": [],
   "source": [
    "def add_column(column_name = \"emotion\", table_name='music', db_name='music_data.db'):\n",
    "    conn = sqlite3.connect(db_name)\n",
    "    cursor = conn.cursor()\n",
    "    # Add a new column 'emotion' to the table\n",
    "    cursor.execute(f\"ALTER TABLE {table_name} ADD COLUMN {column_name} TEXT;\")\n",
    "    print(f\"Column '{column_name}' has been added to the table.\")\n",
    "    conn.commit()\n",
    "    conn.close()\n",
    "# add_column(table_name=name_of_table)"
   ]
  },
  {
   "cell_type": "markdown",
   "metadata": {},
   "source": [
    "## Update emotion"
   ]
  },
  {
   "cell_type": "code",
   "execution_count": 12,
   "metadata": {},
   "outputs": [],
   "source": [
    "def update_emotion(column_name=\"emotion\", table_name='music', db_name='music_data.db', batch_size=1000):\n",
    "    \n",
    "    from nltk.tokenize import word_tokenize\n",
    "\n",
    "    # Connect to the database\n",
    "    conn = sqlite3.connect(db_name)\n",
    "    cursor = conn.cursor()\n",
    "\n",
    "    offset = 0\n",
    "    while True:\n",
    "        # Fetch a batch of songs\n",
    "        cursor.execute(f\"SELECT id, lyrics FROM {table_name} LIMIT {batch_size} OFFSET {offset}\")\n",
    "        songs = cursor.fetchall()\n",
    "\n",
    "        # If no more rows are fetched, break out of the loop\n",
    "        if not songs:\n",
    "            break\n",
    "\n",
    "        updates = []\n",
    "        # Update each song with its corresponding emotion\n",
    "        for song in songs:\n",
    "            song_id, lyrics = song\n",
    "            tokens = word_tokenize(lyrics, preserve_line=True)\n",
    "            # Lowercase and remove punctuation\n",
    "            tokens = [word.lower() for word in tokens if word.isalpha()]\n",
    "            truncated_text = ' '.join(tokens[:min(200, len(tokens))])\n",
    "            emotion = get_mood(truncated_text)\n",
    "            updates.append((emotion, song_id))\n",
    "            # Print or log the current row being processed\n",
    "            # print(f\"Updating song ID: {song_id} with emotion: {emotion}\")\n",
    "            \n",
    "        # Perform a batch update\n",
    "        if updates:\n",
    "            retry_attempts = 5\n",
    "            for attempt in range(retry_attempts):\n",
    "                try:\n",
    "                    cursor.executemany(f\"\"\"\n",
    "                        UPDATE {table_name}\n",
    "                        SET {column_name} = ?\n",
    "                        WHERE id = ?\n",
    "                    \"\"\", updates)\n",
    "                    print(f\"{offset} done!\")\n",
    "                    break  # Exit retry loop on success\n",
    "                except sqlite3.OperationalError as e:\n",
    "                    if \"database is locked\" in str(e):\n",
    "                        print(f\"Database locked. Retrying ({attempt + 1}/{retry_attempts})...\")\n",
    "                        time.sleep(0.5)  # Wait before retrying\n",
    "                    else:\n",
    "                        raise  # Reraise if it's a different error\n",
    "            else:\n",
    "                print(f\"Failed to update after {retry_attempts} attempts.\")\n",
    "            \n",
    "        # Commit the changes to the database after each batch\n",
    "        conn.commit()\n",
    "\n",
    "        # Move to the next batch\n",
    "        offset += batch_size\n",
    "\n",
    "    # Close the connection\n",
    "    conn.close()\n",
    "\n",
    "# update_emotion(table_name=name_of_table)"
   ]
  },
  {
   "cell_type": "markdown",
   "metadata": {},
   "source": [
    "# Interface"
   ]
  },
  {
   "cell_type": "markdown",
   "metadata": {},
   "source": [
    "## functions"
   ]
  },
  {
   "cell_type": "markdown",
   "metadata": {},
   "source": [
    "### prompt engineering / rules"
   ]
  },
  {
   "cell_type": "code",
   "execution_count": 13,
   "metadata": {},
   "outputs": [],
   "source": [
    "# Initialize the chatbot as a Lyrics Expert\n",
    "def become_lyrics_expert(converted_history):\n",
    "    # Act as a Lyrics Expert\n",
    "    converted_history.append({\"role\": \"user\", \"parts\": \"You are a lyrics expert. Answer only lyrics-related questions.\"})\n",
    "    converted_history.append({\"role\": \"model\", \"parts\": \"Understood! I’m here to provide insights and suggestions based on song lyrics.\"})\n",
    "\n",
    "    # User level\n",
    "    converted_history.append({\"role\": \"user\", \"parts\": \"You're talking to someone who loves analyzing lyrics.\"})\n",
    "    converted_history.append({\"role\": \"model\", \"parts\": \"Great! I’ll provide detailed analyses and song recommendations based on lyrics.\"})\n",
    "\n",
    "    # Keywords in lyrics\n",
    "    converted_history.append({\"role\": \"user\", \"parts\": \"The user is looking for songs containing specific keywords.\"})\n",
    "    converted_history.append({\"role\": \"model\", \"parts\": \"I’ll suggest songs that contain the provided keywords in their lyrics.\"})\n",
    "\n",
    "    # Positive or negative preference\n",
    "    converted_history.append({\"role\": \"user\", \"parts\": \"The user has a preference for songs with positive or negative lyrics.\"})\n",
    "    converted_history.append({\"role\": \"model\", \"parts\": \"I’ll provide song recommendations based on the user's preference for either positive or negative lyrics.\"})\n",
    "\n",
    "    # Sensitive topic (suicide)\n",
    "    converted_history.append({\"role\": \"user\", \"parts\": \"The user may express suicidal thoughts.\"})\n",
    "    converted_history.append({\"role\": \"model\", \"parts\": \"I’ll respond with positive messages and suggest uplifting songs to provide support and encouragement.\"})\n",
    "\n",
    "    # No small talk\n",
    "    converted_history.append({\"role\": \"user\", \"parts\": \"Do not engage in small talk.\"})\n",
    "    converted_history.append({\"role\": \"model\", \"parts\": \"Understood! I’ll focus solely on lyrics-related inquiries without casual conversation.\"})\n",
    "\n",
    "    # Solely Lyrics\n",
    "    converted_history.append({\"role\": \"user\", \"parts\": \"Only discuss lyrics analysis. No way to talk about anything else.\"})\n",
    "    converted_history.append({\"role\": \"model\", \"parts\": \"I’ll ensure all responses are strictly related to analyzing lyrics, song suggestions, and recommendations.\"})\n",
    "\n",
    "    # Sensetive topics: # Sucide\n",
    "    converted_history.append({\"role\": \"user\", \"parts\": \"Only discuss lyrics analysis. No way to talk about anything else.\"})\n",
    "    converted_history.append({\"role\": \"model\", \"parts\": \"I’ll ensure all responses are strictly related to analyzing lyrics, song suggestions, and recommendations.\"})\n",
    "\n",
    "    # if \"suicide\" in user_message.lower():\n",
    "    #     positive_response = {\n",
    "    #         \"response\": \"I'm really sorry you're feeling this way, but I'm here to support you. Here's a positive song that might lift your spirits.\",\n",
    "    #         \"suggested_songs\": get_songs_by_mood(\"positive\")\n",
    "    #     }\n",
    "# Add to the history\n",
    "def add_last_history(converted_history, last_history):\n",
    "    user_message, model_response = last_history\n",
    "    if user_message and model_response:\n",
    "        converted_history.append({\"role\": \"user\", \"parts\": user_message})\n",
    "        converted_history.append({\"role\": \"model\", \"parts\": model_response})\n"
   ]
  },
  {
   "cell_type": "markdown",
   "metadata": {},
   "source": [
    "### prompt to query"
   ]
  },
  {
   "cell_type": "code",
   "execution_count": 34,
   "metadata": {},
   "outputs": [],
   "source": [
    "def prompt_to_generate_sql(user_input, table_name):\n",
    "    prompt = f\"\"\"\n",
    "    You are an expert in converting English questions to SQL queries!\n",
    "    The SQL database has one table. The name of the table is '{table_name}'.\n",
    "    \n",
    "    The '{table_name}' table has the following columns:\n",
    "    'id', 'title', 'tag', 'artist', 'year', 'views', 'lyrics'\n",
    "\n",
    "    Your job is to write an SQL query based on the given prompt. Focus on retrieving songs using relevant columns such as 'title', 'artist', 'views', 'lyrics', etc.\n",
    "\n",
    "    Example user input: Show me songs from 2020.\n",
    "    SQL query: \"SELECT title FROM {table_name} WHERE year = 2020;\"\n",
    "\n",
    "    Example user input: what is this song that says \"I'm in love with the shape of you\n",
    "    We push and pull like a magnet do\n",
    "    Although my heart is fallin' too\"\n",
    "    SQL query: \"SELECT title, artist FROM {table_name} WHERE lyrics LIKE '%I'm in love with the shape of you We push and pull like a magnet do Although my heart is fallin' too%';\"\n",
    "\n",
    "    Example user input: Show me the best music by Ed Sheeran.\n",
    "    SQL query: \"SELECT title, artist FROM {table_name} WHERE artist = 'Ed Sheeran' ORDER BY views DESC LIMIT 1;\"\n",
    "\n",
    "    Example user input: Query the 10 most viewed songs by Ed Sheeran.\n",
    "    SQL query: \"SELECT title, artist, views FROM {table_name} WHERE artist = 'Ed Sheeran' ORDER BY views DESC LIMIT 10;\"\n",
    "    \n",
    "    just send the query and nothing else at the beginning or end.\n",
    "    \n",
    "    now find a query for {user_input}\n",
    "    \n",
    "    \"\"\"\n",
    "    return prompt\n"
   ]
  },
  {
   "cell_type": "markdown",
   "metadata": {},
   "source": [
    "### query to respond"
   ]
  },
  {
   "cell_type": "code",
   "execution_count": 35,
   "metadata": {},
   "outputs": [],
   "source": [
    "def prompt_for_friendly_response(sql_result):\n",
    "    prompt = f\"\"\"\n",
    "    You are an expert in converting SQL results into user-friendly responses.\n",
    "    Here's the SQL result: {sql_result}\n",
    "    \n",
    "    Your task is to generate a descriptive response based on the data. Make sure the response is meaningful and easy to understand.\n",
    "\n",
    "    For example, if the result shows the total number of songs or the average duration of songs, mention it clearly. If it shows the titles of songs, list them with proper formatting.\n",
    "    \"\"\"\n",
    "    return prompt"
   ]
  },
  {
   "cell_type": "markdown",
   "metadata": {},
   "source": [
    "### define the model"
   ]
  },
  {
   "cell_type": "code",
   "execution_count": 36,
   "metadata": {},
   "outputs": [],
   "source": [
    "genai.configure(api_key=os.environ[\"API_KEY\"])\n",
    "model = genai.GenerativeModel(\"gemini-1.5-flash\", safety_settings=\"BLOCK_NONE\",\n",
    "        system_instruction=\"You are a song expert.\")\n",
    "#Starting a chat so we can give the bot memory using the history\n",
    "\n",
    "converted_history = []\n",
    "become_lyrics_expert(converted_history)\n",
    "\n",
    "chat = model.start_chat(history=converted_history)"
   ]
  },
  {
   "cell_type": "code",
   "execution_count": 39,
   "metadata": {},
   "outputs": [],
   "source": [
    "def response(inputs, history, temperature=0.7, top_k=50, top_p=0.9):\n",
    "    # Add the last history\n",
    "    # become_lyrics_expert(history)\n",
    "    # If prompt is empty\n",
    "    if inputs['text'] == '' and inputs['files'] == []:\n",
    "        return \"Please provide text input or upload an image.\"\n",
    "\n",
    "    # If prompt is text-only\n",
    "    if inputs['files'] == []:\n",
    "        \n",
    "        user_input = inputs[\"text\"].lower()\n",
    "        \n",
    "        if \"hello\" in user_input:\n",
    "            return \"Hello! I am a melody expert. Ask me anything about songs or artists.\"\n",
    "        elif \"bye\" in user_input:\n",
    "            return \"Goodbye! Have a great day!\"\n",
    "        else:\n",
    "            \n",
    "       \n",
    "            prompt = prompt_to_generate_sql(inputs[\"text\"].lower(), name_of_table)\n",
    "            print(prompt)\n",
    "            query = chat.send_message(prompt,stream = False)\n",
    "            query = query.text.strip(\"```\").strip()\n",
    "            query = query.split(\"\\n\", 1)[1].strip() \n",
    "            print(\"here: > \", query)\n",
    "            result_from_db = query_database(query)\n",
    "            result_prompt = prompt_for_friendly_response(result_from_db)\n",
    "            response_from_api = chat.send_message(result_prompt, stream=True)\n",
    "            # Stream\n",
    "            result = \"\"\n",
    "            try:\n",
    "                # Yield each chunk as it is received\n",
    "                for chunk in response_from_api:\n",
    "                    result += chunk.text \n",
    "                    yield result \n",
    "            except Exception as e:\n",
    "                print(f\"Streaming failed: {e}\")\n",
    "                # Use rewind to attempt to resend the message\n",
    "                chat.rewind()\n",
    "                response_from_api = chat.send_message(prompt, stream=True)\n",
    "                for chunk in response_from_api:\n",
    "                    result += chunk.text \n",
    "                    yield result \n",
    "\n",
    "\n",
    "    # Handle image-based inputs (use similar logic to your existing image handling)\n",
    "    elif inputs['files'] != []:\n",
    "        # Placeholder for image handling logic\n",
    "        im = Image.open(inputs['files'][0]['path'])\n",
    "        p = model.generate_content([\n",
    "            \"Provide a JSON answer with the following information: song title, artist, \"\n",
    "            \"confidence of song match (number between 0 and 1), genre, mood (positive/negative), \"\n",
    "            \"is this song recommended for your mood (Boolean)?\", im\n",
    "        ], generation_config=genai.types.GenerationConfig(\n",
    "            temperature=temperature,\n",
    "            top_k=top_k,\n",
    "            top_p=top_p\n",
    "        )).text\n",
    "\n",
    "            # Summarize the image information if no additional text is provided\n",
    "        if inputs['text'] == '':\n",
    "            return model.generate_content(\n",
    "                [\"Summarize briefly the information in\", p],\n",
    "                generation_config=genai.types.GenerationConfig(\n",
    "                    temperature=temperature,\n",
    "                    top_k=top_k,\n",
    "                    top_p=top_p\n",
    "                )\n",
    "            ).text\n",
    "        else:\n",
    "            try:\n",
    "                return model.generate_content(\n",
    "                    [inputs['text'], im],\n",
    "                    generation_config=genai.types.GenerationConfig(\n",
    "                        temperature=temperature,\n",
    "                        top_k=top_k,\n",
    "                        top_p=top_p\n",
    "                    )\n",
    "                ).text\n",
    "            except Exception as e:\n",
    "                return f\"Your prompt triggered a safety filter. Error: {e}\"\n",
    "\n",
    "    "
   ]
  },
  {
   "cell_type": "markdown",
   "metadata": {},
   "source": [
    "## Run"
   ]
  },
  {
   "cell_type": "code",
   "execution_count": 40,
   "metadata": {},
   "outputs": [
    {
     "name": "stderr",
     "output_type": "stream",
     "text": [
      "c:\\Users\\Moniba\\.conda\\envs\\best\\lib\\site-packages\\gradio\\blocks.py:985: UserWarning: Theme should be a class loaded from gradio.themes\n",
      "  warnings.warn(\"Theme should be a class loaded from gradio.themes\")\n"
     ]
    },
    {
     "name": "stdout",
     "output_type": "stream",
     "text": [
      "Running on local URL:  http://127.0.0.1:7868\n"
     ]
    },
    {
     "name": "stderr",
     "output_type": "stream",
     "text": [
      "c:\\Users\\Moniba\\.conda\\envs\\best\\lib\\site-packages\\gradio\\analytics.py:106: UserWarning: IMPORTANT: You are using gradio version 4.44.1, however version 5.0.1 is available, please upgrade. \n",
      "--------\n",
      "  warnings.warn(\n"
     ]
    },
    {
     "name": "stdout",
     "output_type": "stream",
     "text": [
      "Running on public URL: https://0d2538806a9c6bafa2.gradio.live\n",
      "\n",
      "This share link expires in 72 hours. For free permanent hosting and GPU upgrades, run `gradio deploy` from Terminal to deploy to Spaces (https://huggingface.co/spaces)\n"
     ]
    },
    {
     "data": {
      "text/html": [
       "<div><iframe src=\"https://0d2538806a9c6bafa2.gradio.live\" width=\"100%\" height=\"500\" allow=\"autoplay; camera; microphone; clipboard-read; clipboard-write;\" frameborder=\"0\" allowfullscreen></iframe></div>"
      ],
      "text/plain": [
       "<IPython.core.display.HTML object>"
      ]
     },
     "metadata": {},
     "output_type": "display_data"
    },
    {
     "name": "stdout",
     "output_type": "stream",
     "text": [
      "\n",
      "    You are an expert in converting English questions to SQL queries!\n",
      "    The SQL database has one table. The name of the table is 'music'.\n",
      "    \n",
      "    The 'music' table has the following columns:\n",
      "    'id', 'title', 'tag', 'artist', 'year', 'views', 'lyrics'\n",
      "\n",
      "    Your job is to write an SQL query based on the given prompt. Focus on retrieving songs using relevant columns such as 'title', 'artist', 'views', 'lyrics', etc.\n",
      "\n",
      "    Example user input: Show me songs from 2020.\n",
      "    SQL query: \"SELECT title FROM music WHERE year = 2020;\"\n",
      "\n",
      "    Example user input: what is this song that says \"I'm in love with the shape of you\n",
      "    We push and pull like a magnet do\n",
      "    Although my heart is fallin' too\"\n",
      "    SQL query: \"SELECT title, artist FROM music WHERE lyrics LIKE '%I'm in love with the shape of you We push and pull like a magnet do Although my heart is fallin' too%';\"\n",
      "\n",
      "    Example user input: Show me the best music by Ed Sheeran.\n",
      "    SQL query: \"SELECT title, artist FROM music WHERE artist = 'Ed Sheeran' ORDER BY views DESC LIMIT 1;\"\n",
      "\n",
      "    Example user input: Query the 10 most viewed songs by Ed Sheeran.\n",
      "    SQL query: \"SELECT title, artist, views FROM music WHERE artist = 'Ed Sheeran' ORDER BY views DESC LIMIT 10;\"\n",
      "    \n",
      "    just send the query and nothing else at the beginning or end.\n",
      "    \n",
      "    now find a query for send songs by ed sheeran\n",
      "    \n",
      "    \n",
      "here: >  SELECT title, artist FROM music WHERE artist = 'Ed Sheeran';\n",
      "\n",
      "    You are an expert in converting English questions to SQL queries!\n",
      "    The SQL database has one table. The name of the table is 'music'.\n",
      "    \n",
      "    The 'music' table has the following columns:\n",
      "    'id', 'title', 'tag', 'artist', 'year', 'views', 'lyrics'\n",
      "\n",
      "    Your job is to write an SQL query based on the given prompt. Focus on retrieving songs using relevant columns such as 'title', 'artist', 'views', 'lyrics', etc.\n",
      "\n",
      "    Example user input: Show me songs from 2020.\n",
      "    SQL query: \"SELECT title FROM music WHERE year = 2020;\"\n",
      "\n",
      "    Example user input: what is this song that says \"I'm in love with the shape of you\n",
      "    We push and pull like a magnet do\n",
      "    Although my heart is fallin' too\"\n",
      "    SQL query: \"SELECT title, artist FROM music WHERE lyrics LIKE '%I'm in love with the shape of you We push and pull like a magnet do Although my heart is fallin' too%';\"\n",
      "\n",
      "    Example user input: Show me the best music by Ed Sheeran.\n",
      "    SQL query: \"SELECT title, artist FROM music WHERE artist = 'Ed Sheeran' ORDER BY views DESC LIMIT 1;\"\n",
      "\n",
      "    Example user input: Query the 10 most viewed songs by Ed Sheeran.\n",
      "    SQL query: \"SELECT title, artist, views FROM music WHERE artist = 'Ed Sheeran' ORDER BY views DESC LIMIT 10;\"\n",
      "    \n",
      "    just send the query and nothing else at the beginning or end.\n",
      "    \n",
      "    now find a query for show the best one\n",
      "    \n",
      "    \n",
      "here: >  SELECT title, artist FROM music ORDER BY views DESC LIMIT 1;\n",
      "\n",
      "    You are an expert in converting English questions to SQL queries!\n",
      "    The SQL database has one table. The name of the table is 'music'.\n",
      "    \n",
      "    The 'music' table has the following columns:\n",
      "    'id', 'title', 'tag', 'artist', 'year', 'views', 'lyrics'\n",
      "\n",
      "    Your job is to write an SQL query based on the given prompt. Focus on retrieving songs using relevant columns such as 'title', 'artist', 'views', 'lyrics', etc.\n",
      "\n",
      "    Example user input: Show me songs from 2020.\n",
      "    SQL query: \"SELECT title FROM music WHERE year = 2020;\"\n",
      "\n",
      "    Example user input: what is this song that says \"I'm in love with the shape of you\n",
      "    We push and pull like a magnet do\n",
      "    Although my heart is fallin' too\"\n",
      "    SQL query: \"SELECT title, artist FROM music WHERE lyrics LIKE '%I'm in love with the shape of you We push and pull like a magnet do Although my heart is fallin' too%';\"\n",
      "\n",
      "    Example user input: Show me the best music by Ed Sheeran.\n",
      "    SQL query: \"SELECT title, artist FROM music WHERE artist = 'Ed Sheeran' ORDER BY views DESC LIMIT 1;\"\n",
      "\n",
      "    Example user input: Query the 10 most viewed songs by Ed Sheeran.\n",
      "    SQL query: \"SELECT title, artist, views FROM music WHERE artist = 'Ed Sheeran' ORDER BY views DESC LIMIT 10;\"\n",
      "    \n",
      "    just send the query and nothing else at the beginning or end.\n",
      "    \n",
      "    now find a query for i need some sad songs\n",
      "    \n",
      "    \n",
      "here: >  SELECT title, artist FROM music WHERE tag LIKE '%sad%' OR lyrics LIKE '%sad%' ORDER BY views DESC;\n"
     ]
    }
   ],
   "source": [
    "import gradio.themes as themes  # Import Gradio themes\n",
    "\n",
    "# Create the Gradio app with a theme and examples\n",
    "with gr.Blocks(theme=themes, fill_height=True) as demo:\n",
    "    # Define a ChatInterface with multimodal support\n",
    "    chatbot = gr.ChatInterface(\n",
    "        multimodal=True,    # Supports text and images\n",
    "        fn=response,        # The function that processes the user input\n",
    "        title=\"🎵 Your best Melody Expert 🎵\",  # Title of the chatbot\n",
    "    )\n",
    "    \n",
    "if __name__ == \"__main__\":\n",
    "    # Launch the Gradio app with public sharing enabled\n",
    "    demo.launch(share=True)"
   ]
  },
  {
   "cell_type": "code",
   "execution_count": null,
   "metadata": {},
   "outputs": [],
   "source": []
  },
  {
   "cell_type": "code",
   "execution_count": null,
   "metadata": {},
   "outputs": [],
   "source": []
  },
  {
   "cell_type": "code",
   "execution_count": null,
   "metadata": {},
   "outputs": [],
   "source": []
  }
 ],
 "metadata": {
  "kernelspec": {
   "display_name": "Python 3 (ipykernel)",
   "language": "python",
   "name": "python3"
  },
  "language_info": {
   "codemirror_mode": {
    "name": "ipython",
    "version": 3
   },
   "file_extension": ".py",
   "mimetype": "text/x-python",
   "name": "python",
   "nbconvert_exporter": "python",
   "pygments_lexer": "ipython3",
   "version": "3.9.18"
  }
 },
 "nbformat": 4,
 "nbformat_minor": 4
}
