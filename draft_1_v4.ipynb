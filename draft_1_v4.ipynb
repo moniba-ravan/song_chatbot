{
 "cells": [
  {
   "cell_type": "markdown",
   "metadata": {},
   "source": [
    "### import environment"
   ]
  },
  {
   "cell_type": "code",
   "execution_count": 10,
   "metadata": {},
   "outputs": [],
   "source": [
    "import gradio as gr\n",
    "import tempfile\n",
    "import os\n",
    "import google.generativeai as genai\n",
    "import json\n",
    "from PIL import Image\n",
    "import time  \n",
    "import random\n",
    "import io\n",
    "import streamlit as st  \n",
    "import sqlite3  \n",
    "from transformers import pipeline"
   ]
  },
  {
   "cell_type": "code",
   "execution_count": 11,
   "metadata": {},
   "outputs": [],
   "source": [
    "emotion_classifier = pipeline(\"text-classification\", model=\"j-hartmann/emotion-english-distilroberta-base\", return_all_scores=True)\n",
    "model = genai.GenerativeModel(\"gemini-1.5-flash\", safety_settings=\"BLOCK_NONE\",\n",
    "        system_instruction=\"You are a mushroom expert, only reply with answers related to mushrooms\")\n",
    "#Starting a chat so we can give the bot memory using the history\n",
    "chat = model.start_chat(history=[])"
   ]
  },
  {
   "cell_type": "markdown",
   "metadata": {},
   "source": [
    "### define a promt to convert user input into SQL queue"
   ]
  },
  {
   "cell_type": "code",
   "execution_count": 12,
   "metadata": {},
   "outputs": [],
   "source": [
    "def prompt_to_generate_sql(user_input):\n",
    "    prompt = f\"\"\"\n",
    "    You are an expert in converting English questions to SQL queries!\n",
    "    The SQL database has one table. The name of the table is 'songs'.\n",
    "    \n",
    "    The 'songs' table has the following columns: \n",
    "    'id', 'title', 'artist', 'album', 'release_year', 'genre', 'duration_ms',\n",
    "    'lyrics', 'popularity', 'danceability', 'energy', 'valence', 'acousticness',\n",
    "    'instrumentalness', 'liveness', 'loudness', 'speechiness', 'tempo'\n",
    "    \n",
    "    Your job is to write the SQL query based on a given prompt.\n",
    "\n",
    "    Example user question: Show me the titles of all songs by 'Taylor Swift'.\n",
    "    SQL query: SELECT title FROM songs WHERE artist = 'Taylor Swift';\n",
    "    \n",
    "    Example user question: {user_input}\n",
    "    \"\"\"\n",
    "    return prompt"
   ]
  },
  {
   "cell_type": "markdown",
   "metadata": {},
   "source": [
    "### connect to sqlite database"
   ]
  },
  {
   "cell_type": "code",
   "execution_count": 13,
   "metadata": {},
   "outputs": [],
   "source": [
    "import sqlite3\n",
    "\n",
    "# Function to execute SQL query and get the result\n",
    "def execute_sql_query(sql_query):\n",
    "    conn = sqlite3.connect('songs.db')  # Connect to your database\n",
    "    cursor = conn.cursor()\n",
    "    \n",
    "    cursor.execute(sql_query)  # Execute the generated SQL query\n",
    "    result = cursor.fetchall()  # Fetch all results from the query\n",
    "    \n",
    "    conn.close()  # Close the database connection\n",
    "    return result"
   ]
  },
  {
   "cell_type": "markdown",
   "metadata": {},
   "source": [
    "### Step 3: SQL Result to User-Friendly Response (LLM generates user-friendly response)"
   ]
  },
  {
   "cell_type": "code",
   "execution_count": 14,
   "metadata": {},
   "outputs": [],
   "source": [
    "# Define a prompt to convert SQL results into a user-friendly response\n",
    "def prompt_for_friendly_response(sql_result):\n",
    "    prompt = f\"\"\"\n",
    "    You are an expert in converting SQL results into user-friendly responses.\n",
    "    Here's the SQL result: {sql_result}\n",
    "    \n",
    "    Your task is to generate a descriptive response based on the data. Make sure the response is meaningful and easy to understand.\n",
    "\n",
    "    For example, if the result shows the total number of songs or the average duration of songs, mention it clearly. If it shows the titles of songs, list them with proper formatting.\n",
    "    \"\"\"\n",
    "    return prompt"
   ]
  },
  {
   "cell_type": "markdown",
   "metadata": {},
   "source": [
    "### define a prompt to convert user input into an sql using llm\n"
   ]
  },
  {
   "cell_type": "code",
   "execution_count": 15,
   "metadata": {},
   "outputs": [],
   "source": [
    "def generate_sql_query(user_input, temperature =0.7, top_k=50, top_p = 0.9):\n",
    "    model = genai.GenerativeModel(\"gemini-1.5-flash\")\n",
    "    prompt = f\"\"\"\n",
    "    You are an expert at converting user input into SQL queries.\n",
    "    Given the user's input:\"{user_input}\", write an appropriate SQL query to fetch the relevant data.\n",
    "    \"\"\"\n",
    "    response = model.send_message(prompt, generation_config = genai.types.GenerationConfig(\n",
    "        temperature = temperature,\n",
    "        top_k =top_k,\n",
    "        top_p =top_p\n",
    "    ))\n",
    "    sql_query = response.text.strip()\n",
    "    return sql_query"
   ]
  },
  {
   "cell_type": "markdown",
   "metadata": {},
   "source": [
    "### get mood\n"
   ]
  },
  {
   "cell_type": "code",
   "execution_count": 16,
   "metadata": {},
   "outputs": [
    {
     "data": {
      "text/plain": [
       "'sadness'"
      ]
     },
     "execution_count": 16,
     "metadata": {},
     "output_type": "execute_result"
    }
   ],
   "source": [
    "def get_mood(text_input):\n",
    "    # Get mood predictions\n",
    "    moods = emotion_classifier(text_input)[0]\n",
    "    # Sort moods by score (confidence)\n",
    "    moods_sorted = sorted(moods, key=lambda x: x['score'], reverse=True)\n",
    "    # Get the top mood with the highest confidence\n",
    "    mood = moods_sorted[0]['label']\n",
    "    return mood\n",
    "get_mood(\"i want cry\")"
   ]
  },
  {
   "cell_type": "markdown",
   "metadata": {},
   "source": []
  },
  {
   "cell_type": "markdown",
   "metadata": {},
   "source": [
    "### become a lyrics expert"
   ]
  },
  {
   "cell_type": "code",
   "execution_count": 17,
   "metadata": {},
   "outputs": [],
   "source": [
    "# Initialize the chatbot as a Lyrics Expert\n",
    "def become_lyrics_expert():\n",
    "    # Act as a Lyrics Expert\n",
    "    converted_history.append({\"role\": \"user\", \"parts\": \"You are a lyrics expert. Answer only lyrics-related questions.\"})\n",
    "    converted_history.append({\"role\": \"model\", \"parts\": \"Understood! I’m here to provide insights and suggestions based on song lyrics.\"})\n",
    "\n",
    "    # User level\n",
    "    converted_history.append({\"role\": \"user\", \"parts\": \"You're talking to someone who loves analyzing lyrics.\"})\n",
    "    converted_history.append({\"role\": \"model\", \"parts\": \"Great! I’ll provide detailed analyses and song recommendations based on lyrics.\"})\n",
    "\n",
    "    # Keywords in lyrics\n",
    "    converted_history.append({\"role\": \"user\", \"parts\": \"The user is looking for songs containing specific keywords.\"})\n",
    "    converted_history.append({\"role\": \"model\", \"parts\": \"I’ll suggest songs that contain the provided keywords in their lyrics.\"})\n",
    "\n",
    "    # Positive or negative preference\n",
    "    converted_history.append({\"role\": \"user\", \"parts\": \"The user has a preference for songs with positive or negative lyrics.\"})\n",
    "    converted_history.append({\"role\": \"model\", \"parts\": \"I’ll provide song recommendations based on the user's preference for either positive or negative lyrics.\"})\n",
    "\n",
    "    # Sensitive topic (suicide)\n",
    "    converted_history.append({\"role\": \"user\", \"parts\": \"The user may express suicidal thoughts.\"})\n",
    "    converted_history.append({\"role\": \"model\", \"parts\": \"I’ll respond with positive messages and suggest uplifting songs to provide support and encouragement.\"})\n",
    "\n",
    "    # No small talk\n",
    "    converted_history.append({\"role\": \"user\", \"parts\": \"Do not engage in small talk.\"})\n",
    "    converted_history.append({\"role\": \"model\", \"parts\": \"Understood! I’ll focus solely on lyrics-related inquiries without casual conversation.\"})\n",
    "\n",
    "    # Solely Lyrics\n",
    "    converted_history.append({\"role\": \"user\", \"parts\": \"Only discuss lyrics analysis. No way to talk about anything else.\"})\n",
    "    converted_history.append({\"role\": \"model\", \"parts\": \"I’ll ensure all responses are strictly related to analyzing lyrics, song suggestions, and recommendations.\"})\n",
    "\n",
    "# Add to the history\n",
    "def convert_last_history(converted_history, last_history):\n",
    "    user_message, model_response = last_history\n",
    "    if user_message and model_response:\n",
    "        converted_history.append({\"role\": \"user\", \"parts\": user_message})\n",
    "        converted_history.append({\"role\": \"model\", \"parts\": model_response})\n"
   ]
  },
  {
   "cell_type": "markdown",
   "metadata": {},
   "source": [
    "### function1 Song selection based on keywords"
   ]
  },
  {
   "cell_type": "code",
   "execution_count": 18,
   "metadata": {},
   "outputs": [],
   "source": [
    "def get_songs_by_keywords(keywords):\n",
    "    # Mocked song database\n",
    "    song_database = [\n",
    "        {\"title\": \"Happy\", \"artist\": \"Pharrell Williams\", \"lyrics\": \"Because I'm happy...\"},\n",
    "        {\"title\": \"Sad\", \"artist\": \"XXX\", \"lyrics\": \"I'm feeling so sad...\"},\n",
    "        {\"title\": \"Joy\", \"artist\": \"XYZ\", \"lyrics\": \"Bring me joy...\"}\n",
    "    ]\n",
    "    # Filter songs containing the keyword in the lyrics\n",
    "    matched_songs = [song for song in song_database if any(keyword.lower() in song[\"lyrics\"].lower() for keyword in keywords)]\n",
    "    return matched_songs"
   ]
  },
  {
   "cell_type": "markdown",
   "metadata": {},
   "source": [
    "###  Function 2: Song selection based on mood preference\n"
   ]
  },
  {
   "cell_type": "code",
   "execution_count": 19,
   "metadata": {},
   "outputs": [],
   "source": [
    "def get_songs_by_mood(preference):\n",
    "    # Mocked song database with positive/negative sentiments\n",
    "    song_database = [\n",
    "        {\"title\": \"Happy\", \"artist\": \"Pharrell Williams\", \"mood\": \"positive\", \"lyrics\": \"Because I'm happy...\"},\n",
    "        {\"title\": \"Depressed\", \"artist\": \"Sad Band\", \"mood\": \"negative\", \"lyrics\": \"I feel so low...\"},\n",
    "        {\"title\": \"Joy\", \"artist\": \"XYZ\", \"mood\": \"positive\", \"lyrics\": \"Bring me joy...\"}\n",
    "    ]\n",
    "    # Filter songs by mood preference\n",
    "    matched_songs = [song for song in song_database if song[\"mood\"] == preference]\n",
    "    return matched_songs\n"
   ]
  },
  {
   "cell_type": "markdown",
   "metadata": {},
   "source": [
    "### Function 3: Sensitive topic detection and positive response\n"
   ]
  },
  {
   "cell_type": "code",
   "execution_count": 20,
   "metadata": {},
   "outputs": [],
   "source": [
    "def respond_to_sensitive_topics(user_message):\n",
    "    if \"suicide\" in user_message.lower():\n",
    "        positive_response = {\n",
    "            \"response\": \"I'm really sorry you're feeling this way, but I'm here to support you. Here's a positive song that might lift your spirits.\",\n",
    "            \"suggested_songs\": get_songs_by_mood(\"positive\")\n",
    "        }\n",
    "        return positive_response\n",
    "    return None"
   ]
  },
  {
   "cell_type": "markdown",
   "metadata": {},
   "source": [
    "### example usage"
   ]
  },
  {
   "cell_type": "code",
   "execution_count": 21,
   "metadata": {},
   "outputs": [],
   "source": [
    "def handle_lyrics_keywords(keywords, db_conn):\n",
    "    if not keywords:  # Check if keywords list is empty\n",
    "        return \"Please provide a keyword to search.\"\n",
    "\n",
    "    try:\n",
    "        # Prepare the SQL query to search for songs based on lyrics\n",
    "        keyword_clause = \" OR \".join([f\"lyrics LIKE ?\" for _ in keywords])\n",
    "        sql_query = f\"SELECT title, artist FROM songs WHERE {keyword_clause}\"\n",
    "        \n",
    "        # Prepare the parameters for the SQL query\n",
    "        keyword_params = [f\"%{keyword}%\" for keyword in keywords]  # Use wildcards for partial matching\n",
    "\n",
    "        # Execute the query\n",
    "        cursor = db_conn.cursor()\n",
    "        cursor.execute(sql_query, keyword_params)\n",
    "        matching_songs = cursor.fetchall()\n",
    "\n",
    "        # Generate the response based on the matched songs\n",
    "        if matching_songs:\n",
    "            song_list = ', '.join([f\"{song[0]} by {song[1]}\" for song in matching_songs])\n",
    "            return f\"I found songs that match the keyword '{keywords[0]}': {song_list}.\"\n",
    "        else:\n",
    "            return f\"Sorry, I couldn't find any songs containing the keyword '{keywords[0]}'.\"\n",
    "    \n",
    "    except sqlite3.Error as e:\n",
    "        return f\"Database error: {e}\""
   ]
  },
  {
   "cell_type": "markdown",
   "metadata": {},
   "source": [
    "### def of the model and chat"
   ]
  },
  {
   "cell_type": "code",
   "execution_count": null,
   "metadata": {},
   "outputs": [],
   "source": []
  },
  {
   "cell_type": "markdown",
   "metadata": {},
   "source": [
    "### simulate streamed response "
   ]
  },
  {
   "cell_type": "code",
   "execution_count": 22,
   "metadata": {},
   "outputs": [],
   "source": [
    "def simulate_typing_response(answer):\n",
    "    full_sentence = \"\"\n",
    "    for word in answer.split():\n",
    "        full_sentence += word + \" \"\n",
    "        yield full_sentence.strip()  \n",
    "        time.sleep(0.3)  "
   ]
  },
  {
   "cell_type": "markdown",
   "metadata": {},
   "source": [
    "### rewind function"
   ]
  },
  {
   "cell_type": "code",
   "execution_count": 23,
   "metadata": {},
   "outputs": [],
   "source": [
    "def rewind_chat(history):\n",
    "    if len(history) > 0:\n",
    "        last_safe_state = history[-1]  # Get the last safe state\n",
    "        print(\"Rewinding to the last safe state:\", last_safe_state)\n",
    "        return history[:-1]  \n",
    "    else:\n",
    "        return history  "
   ]
  },
  {
   "cell_type": "markdown",
   "metadata": {},
   "source": []
  },
  {
   "cell_type": "code",
   "execution_count": 24,
   "metadata": {},
   "outputs": [],
   "source": [
    "def response(inputs, history, temperature=0.7, top_k=50, top_p=0.9):\n",
    "    try:\n",
    "        # If prompt is empty\n",
    "        if inputs['text'] == '' and inputs['files'] == []:\n",
    "            return \"Please provide text input or upload an image.\"\n",
    "\n",
    "        # If prompt is simply text, handle it by generating a SQL query\n",
    "        if inputs['files'] == [] and inputs['text'] != '':\n",
    "            user_input = inputs[\"text\"].lower()\n",
    "\n",
    "            if \"hello\" in user_input:\n",
    "                return \"Hello! I am a melody and song database expert. Ask me anything about songs or artists!\"\n",
    "            elif \"bye\" in user_input:\n",
    "                return \"Goodbye! Have a great day!\"\n",
    "\n",
    "            try:\n",
    "                # Detect mood from user input using the get_mood function\n",
    "                mood = get_mood(user_input)\n",
    "                if mood:\n",
    "                    response_text = handle_lyrics_mood(mood)\n",
    "                    return response_text\n",
    "\n",
    "                # If no specific mood is detected, convert the user's input into an SQL query using the model\n",
    "                sql_query = generate_sql_query(user_input, temperature, top_k, top_p)\n",
    "                \n",
    "                # Execute the generated SQL query\n",
    "                sql_result = execute_sql_query(sql_query)\n",
    "                \n",
    "                # Generate a friendly response from the SQL result\n",
    "                if sql_result:\n",
    "                    user_friendly_response = prompt_for_friendly_response(sql_result)\n",
    "                else:\n",
    "                    user_friendly_response = \"Sorry, no matching data found in the database.\"\n",
    "                \n",
    "                return user_friendly_response\n",
    "\n",
    "            except Exception as e:\n",
    "                return f\"Error processing your request: {e}\"\n",
    "\n",
    "        # Handle image-based inputs (use similar logic to your existing image handling)\n",
    "        elif inputs['files'] != []:\n",
    "            # Placeholder for image handling logic\n",
    "            im = Image.open(inputs['files'][0]['path'])\n",
    "            p = model.generate_content([\n",
    "                \"Provide a JSON answer with the following information: song title, artist, \"\n",
    "                \"confidence of song match (number between 0 and 1), genre, mood (positive/negative), \"\n",
    "                \"is this song recommended for your mood (Boolean)?\", im\n",
    "            ], generation_config=genai.types.GenerationConfig(\n",
    "                temperature=temperature,\n",
    "                top_k=top_k,\n",
    "                top_p=top_p\n",
    "            )).text\n",
    "\n",
    "            # Summarize the image information if no additional text is provided\n",
    "            if inputs['text'] == '':\n",
    "                return model.generate_content(\n",
    "                    [\"Summarize briefly the information in\", p],\n",
    "                    generation_config=genai.types.GenerationConfig(\n",
    "                        temperature=temperature,\n",
    "                        top_k=top_k,\n",
    "                        top_p=top_p\n",
    "                    )\n",
    "                ).text\n",
    "            else:\n",
    "                try:\n",
    "                    return model.generate_content(\n",
    "                        [inputs['text'], im],\n",
    "                        generation_config=genai.types.GenerationConfig(\n",
    "                            temperature=temperature,\n",
    "                            top_k=top_k,\n",
    "                            top_p=top_p\n",
    "                        )\n",
    "                    ).text\n",
    "                except Exception as e:\n",
    "                    return f\"Your prompt triggered a safety filter. Error: {e}\"\n",
    "\n",
    "    except Exception as e:\n",
    "        return f\"An error occurred: {e}\"\n",
    "\n",
    "# Helper functions\n",
    "\n",
    "# Function to handle keywords in lyrics\n",
    "def handle_lyrics_keywords(keywords):\n",
    "    if not keywords:\n",
    "        return \"Please provide a keyword to search.\"\n",
    "\n",
    "    try:\n",
    "        # SQL query to search for songs by lyrics\n",
    "        keyword_clause = \" OR \".join([f\"lyrics LIKE '%{keyword}%'\" for keyword in keywords])\n",
    "        sql_query = f\"SELECT title, artist FROM songs WHERE {keyword_clause}\"\n",
    "\n",
    "        # Use the execute_sql_query function to get the result\n",
    "        matching_songs = execute_sql_query(sql_query)\n",
    "\n",
    "        if matching_songs:\n",
    "            song_list = ', '.join([f\"{song[0]} by {song[1]}\" for song in matching_songs])\n",
    "            return f\"I found songs that match the keyword '{keywords[0]}': {song_list}.\"\n",
    "        else:\n",
    "            return f\"No songs found containing the keyword '{keywords[0]}'.\"\n",
    "    \n",
    "    except sqlite3.Error as e:\n",
    "        return f\"Database error: {e}\"\n",
    "\n",
    "# Function to handle mood-based song recommendations\n",
    "def handle_lyrics_mood(mood):\n",
    "    try:\n",
    "        # SQL query to search for songs based on mood\n",
    "        sql_query = f\"SELECT title, artist FROM songs WHERE mood = '{mood}'\"\n",
    "        \n",
    "        # Use the execute_sql_query function to get the result\n",
    "        matching_songs = execute_sql_query(sql_query)\n",
    "\n",
    "        if matching_songs:\n",
    "            song_list = ', '.join([f\"{song[0]} by {song[1]}\" for song in matching_songs])\n",
    "            return f\"Here are some {mood} songs: {song_list}.\"\n",
    "        else:\n",
    "            return f\"No {mood} songs found.\"\n",
    "\n",
    "    except sqlite3.Error as e:\n",
    "        return f\"Database error: {e}\"\n",
    "# Simulate typing response\n",
    "def simulate_typing_response(text):\n",
    "    if not text:\n",
    "        text = \"Ask me about music!\"\n",
    "    for i in range(0, len(text), 10):\n",
    "        yield text[:i + 10]"
   ]
  },
  {
   "cell_type": "markdown",
   "metadata": {},
   "source": [
    "### interface\n"
   ]
  },
  {
   "cell_type": "code",
   "execution_count": 26,
   "metadata": {},
   "outputs": [
    {
     "name": "stderr",
     "output_type": "stream",
     "text": [
      "/opt/conda/lib/python3.11/site-packages/gradio/blocks.py:985: UserWarning: Theme should be a class loaded from gradio.themes\n",
      "  warnings.warn(\"Theme should be a class loaded from gradio.themes\")\n"
     ]
    },
    {
     "name": "stdout",
     "output_type": "stream",
     "text": [
      "Running on local URL:  http://0.0.0.0:7862\n"
     ]
    },
    {
     "name": "stderr",
     "output_type": "stream",
     "text": [
      "/opt/conda/lib/python3.11/site-packages/gradio/analytics.py:106: UserWarning: IMPORTANT: You are using gradio version 4.43.0, however version 5.0.1 is available, please upgrade. \n",
      "--------\n",
      "  warnings.warn(\n"
     ]
    },
    {
     "name": "stdout",
     "output_type": "stream",
     "text": [
      "Running on public URL: https://2b9f4946947d30df4f.gradio.live\n",
      "\n",
      "This share link expires in 72 hours. For free permanent hosting and GPU upgrades, run `gradio deploy` from Terminal to deploy to Spaces (https://huggingface.co/spaces)\n"
     ]
    },
    {
     "data": {
      "text/html": [
       "<div><iframe src=\"https://2b9f4946947d30df4f.gradio.live\" width=\"100%\" height=\"500\" allow=\"autoplay; camera; microphone; clipboard-read; clipboard-write;\" frameborder=\"0\" allowfullscreen></iframe></div>"
      ],
      "text/plain": [
       "<IPython.core.display.HTML object>"
      ]
     },
     "metadata": {},
     "output_type": "display_data"
    }
   ],
   "source": [
    "import gradio.themes as theme  # Import Gradio themes\n",
    "\n",
    "# Create the Gradio app with a theme and examples\n",
    "with gr.Blocks(theme=theme, fill_height=True) as demo:\n",
    "    # Define a ChatInterface with multimodal support\n",
    "    chatbot = gr.ChatInterface(\n",
    "        multimodal=True,    # Supports text and images\n",
    "        fn=response,        # The function that processes the user input\n",
    "        title=\"🎵 Your best Melody Expert 🎵\",  # Title of the chatbot\n",
    "    )\n",
    "    \n",
    "if __name__ == \"__main__\":\n",
    "    # Launch the Gradio app with public sharing enabled\n",
    "    demo.launch(share=True)"
   ]
  }
 ],
 "metadata": {
  "kernelspec": {
   "display_name": "Python 3 (ipykernel)",
   "language": "python",
   "name": "python3"
  },
  "language_info": {
   "codemirror_mode": {
    "name": "ipython",
    "version": 3
   },
   "file_extension": ".py",
   "mimetype": "text/x-python",
   "name": "python",
   "nbconvert_exporter": "python",
   "pygments_lexer": "ipython3",
   "version": "3.11.10"
  }
 },
 "nbformat": 4,
 "nbformat_minor": 4
}
